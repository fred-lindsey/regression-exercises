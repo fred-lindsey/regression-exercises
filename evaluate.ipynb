{
 "cells": [
  {
   "cell_type": "code",
   "execution_count": null,
   "id": "41c195f4",
   "metadata": {},
   "outputs": [],
   "source": [
    "## Evaluation Exercises"
   ]
  },
  {
   "cell_type": "code",
   "execution_count": 2,
   "id": "d17f8a57",
   "metadata": {},
   "outputs": [],
   "source": [
    "from scipy import stats\n",
    "from sklearn.metrics import mean_squared_error, r2_score, explained_variance_score\n",
    "\n",
    "from sklearn.linear_model import LinearRegression\n",
    "from sklearn.feature_selection import f_regression \n",
    "from math import sqrt\n",
    "import matplotlib.pyplot as plt\n",
    "import warnings\n",
    "warnings.filterwarnings('ignore')\n",
    "\n",
    "import env\n",
    "import wrangle\n",
    "import split"
   ]
  },
  {
   "cell_type": "markdown",
   "id": "d4b80fd1",
   "metadata": {},
   "source": [
    "## 1. Load your zillow dataset."
   ]
  },
  {
   "cell_type": "code",
   "execution_count": 5,
   "id": "504ecbf3",
   "metadata": {},
   "outputs": [
    {
     "name": "stdout",
     "output_type": "stream",
     "text": [
      "(2134889, 8)\n",
      "(2096764, 8)\n"
     ]
    },
    {
     "data": {
      "text/plain": [
       "(2096764, 8)"
      ]
     },
     "execution_count": 5,
     "metadata": {},
     "output_type": "execute_result"
    }
   ],
   "source": [
    "df = wrangle.wrangle_zillow()\n",
    "df.shape"
   ]
  },
  {
   "cell_type": "code",
   "execution_count": 4,
   "id": "3be2cc35",
   "metadata": {},
   "outputs": [
    {
     "data": {
      "text/plain": [
       "((1174187, 8), (503224, 8), (419353, 8))"
      ]
     },
     "execution_count": 4,
     "metadata": {},
     "output_type": "execute_result"
    }
   ],
   "source": [
    "# split\n",
    "train, validate, test = split.train_validate_test_split(df, 'taxvaluedollarcnt')\n",
    "train.shape, validate.shape, test.shape\n"
   ]
  },
  {
   "cell_type": "code",
   "execution_count": 12,
   "id": "69b1a029",
   "metadata": {},
   "outputs": [
    {
     "data": {
      "text/html": [
       "<div><div id=af3a2f38-a580-4f41-82a4-854677f64eae style=\"display:none; background-color:#9D6CFF; color:white; width:200px; height:30px; padding-left:5px; border-radius:4px; flex-direction:row; justify-content:space-around; align-items:center;\" onmouseover=\"this.style.backgroundColor='#BA9BF8'\" onmouseout=\"this.style.backgroundColor='#9D6CFF'\" onclick=\"window.commands?.execute('create-mitosheet-from-dataframe-output');\">See Full Dataframe in Mito</div> <script> if (window.commands?.hasCommand('create-mitosheet-from-dataframe-output')) document.getElementById('af3a2f38-a580-4f41-82a4-854677f64eae').style.display = 'flex' </script> <table border=\"1\" class=\"dataframe\">\n",
       "  <thead>\n",
       "    <tr style=\"text-align: right;\">\n",
       "      <th></th>\n",
       "      <th>parcelid</th>\n",
       "      <th>bedroomcnt</th>\n",
       "      <th>bathroomcnt</th>\n",
       "      <th>calculatedfinishedsquarefeet</th>\n",
       "      <th>taxvaluedollarcnt</th>\n",
       "      <th>yearbuilt</th>\n",
       "      <th>taxamount</th>\n",
       "      <th>fips</th>\n",
       "    </tr>\n",
       "  </thead>\n",
       "  <tbody>\n",
       "    <tr>\n",
       "      <th>1913513</th>\n",
       "      <td>13955563</td>\n",
       "      <td>5.0</td>\n",
       "      <td>3.0</td>\n",
       "      <td>2420.0</td>\n",
       "      <td>562318.0</td>\n",
       "      <td>1973.0</td>\n",
       "      <td>6680.1</td>\n",
       "      <td>orange_county</td>\n",
       "    </tr>\n",
       "  </tbody>\n",
       "</table></div>"
      ],
      "text/plain": [
       "         parcelid  bedroomcnt  bathroomcnt  calculatedfinishedsquarefeet  \\\n",
       "1913513  13955563         5.0          3.0                        2420.0   \n",
       "\n",
       "         taxvaluedollarcnt  yearbuilt  taxamount           fips  \n",
       "1913513           562318.0     1973.0     6680.1  orange_county  "
      ]
     },
     "execution_count": 12,
     "metadata": {},
     "output_type": "execute_result"
    }
   ],
   "source": [
    "train.head(1)"
   ]
  },
  {
   "cell_type": "markdown",
   "id": "33a5477c",
   "metadata": {},
   "source": [
    "## 2. Fit a linear regression model (ordinary least squares) and compute yhat, predictions of taxvaluedollarcnt using only calfulatedfinishedsqft."
   ]
  },
  {
   "cell_type": "code",
   "execution_count": 33,
   "id": "54a68b8f",
   "metadata": {},
   "outputs": [],
   "source": [
    "X_train = pd.DataFrame(train.calculatedfinishedsquarefeet)\n",
    "y_train = pd.DataFrame(train.taxvaluedollarcnt)"
   ]
  },
  {
   "cell_type": "code",
   "execution_count": 28,
   "id": "6f4c3dd8",
   "metadata": {},
   "outputs": [
    {
     "data": {
      "text/html": [
       "<div><div id=43e4b36f-4646-444d-bd14-84e18d642ae6 style=\"display:none; background-color:#9D6CFF; color:white; width:200px; height:30px; padding-left:5px; border-radius:4px; flex-direction:row; justify-content:space-around; align-items:center;\" onmouseover=\"this.style.backgroundColor='#BA9BF8'\" onmouseout=\"this.style.backgroundColor='#9D6CFF'\" onclick=\"window.commands?.execute('create-mitosheet-from-dataframe-output');\">See Full Dataframe in Mito</div> <script> if (window.commands?.hasCommand('create-mitosheet-from-dataframe-output')) document.getElementById('43e4b36f-4646-444d-bd14-84e18d642ae6').style.display = 'flex' </script> <table border=\"1\" class=\"dataframe\">\n",
       "  <thead>\n",
       "    <tr style=\"text-align: right;\">\n",
       "      <th></th>\n",
       "      <th>calculatedfinishedsquarefeet</th>\n",
       "      <th>taxvaluedollarcnt</th>\n",
       "    </tr>\n",
       "  </thead>\n",
       "  <tbody>\n",
       "    <tr>\n",
       "      <th>1913513</th>\n",
       "      <td>2420.0</td>\n",
       "      <td>562318.0</td>\n",
       "    </tr>\n",
       "    <tr>\n",
       "      <th>1886619</th>\n",
       "      <td>1070.0</td>\n",
       "      <td>367613.0</td>\n",
       "    </tr>\n",
       "    <tr>\n",
       "      <th>318523</th>\n",
       "      <td>788.0</td>\n",
       "      <td>165892.0</td>\n",
       "    </tr>\n",
       "    <tr>\n",
       "      <th>1329325</th>\n",
       "      <td>1470.0</td>\n",
       "      <td>395000.0</td>\n",
       "    </tr>\n",
       "    <tr>\n",
       "      <th>682698</th>\n",
       "      <td>1218.0</td>\n",
       "      <td>696364.0</td>\n",
       "    </tr>\n",
       "  </tbody>\n",
       "</table></div>"
      ],
      "text/plain": [
       "         calculatedfinishedsquarefeet  taxvaluedollarcnt\n",
       "1913513                        2420.0           562318.0\n",
       "1886619                        1070.0           367613.0\n",
       "318523                          788.0           165892.0\n",
       "1329325                        1470.0           395000.0\n",
       "682698                         1218.0           696364.0"
      ]
     },
     "execution_count": 28,
     "metadata": {},
     "output_type": "execute_result"
    }
   ],
   "source": [
    "df = pd.DataFrame(train[['calculatedfinishedsquarefeet', 'taxvaluedollarcnt']])\n",
    "df.head()"
   ]
  },
  {
   "cell_type": "code",
   "execution_count": 29,
   "id": "95cfdf34",
   "metadata": {},
   "outputs": [],
   "source": [
    "model = LinearRegression().fit(X_train, y_train)"
   ]
  },
  {
   "cell_type": "code",
   "execution_count": 30,
   "id": "14edac52",
   "metadata": {},
   "outputs": [],
   "source": [
    "predictions = model.predict(X_train)"
   ]
  },
  {
   "cell_type": "markdown",
   "id": "47a7ed5b",
   "metadata": {},
   "source": [
    "## 3. Plot the residuals for the linear regression model that you made"
   ]
  },
  {
   "cell_type": "code",
   "execution_count": 34,
   "id": "3e02d31c",
   "metadata": {},
   "outputs": [
    {
     "data": {
      "text/html": [
       "<div><div id=f17892cf-1a3a-4ed1-9cd5-1d6df1a5bbdb style=\"display:none; background-color:#9D6CFF; color:white; width:200px; height:30px; padding-left:5px; border-radius:4px; flex-direction:row; justify-content:space-around; align-items:center;\" onmouseover=\"this.style.backgroundColor='#BA9BF8'\" onmouseout=\"this.style.backgroundColor='#9D6CFF'\" onclick=\"window.commands?.execute('create-mitosheet-from-dataframe-output');\">See Full Dataframe in Mito</div> <script> if (window.commands?.hasCommand('create-mitosheet-from-dataframe-output')) document.getElementById('f17892cf-1a3a-4ed1-9cd5-1d6df1a5bbdb').style.display = 'flex' </script> <table border=\"1\" class=\"dataframe\">\n",
       "  <thead>\n",
       "    <tr style=\"text-align: right;\">\n",
       "      <th></th>\n",
       "      <th>calculatedfinishedsquarefeet</th>\n",
       "      <th>taxvaluedollarcnt</th>\n",
       "      <th>baseline</th>\n",
       "      <th>predictions</th>\n",
       "    </tr>\n",
       "  </thead>\n",
       "  <tbody>\n",
       "    <tr>\n",
       "      <th>1913513</th>\n",
       "      <td>2420.0</td>\n",
       "      <td>562318.0</td>\n",
       "      <td>409767.463229</td>\n",
       "      <td>573093.712744</td>\n",
       "    </tr>\n",
       "    <tr>\n",
       "      <th>1886619</th>\n",
       "      <td>1070.0</td>\n",
       "      <td>367613.0</td>\n",
       "      <td>409767.463229</td>\n",
       "      <td>217793.240731</td>\n",
       "    </tr>\n",
       "    <tr>\n",
       "      <th>318523</th>\n",
       "      <td>788.0</td>\n",
       "      <td>165892.0</td>\n",
       "      <td>409767.463229</td>\n",
       "      <td>143574.919910</td>\n",
       "    </tr>\n",
       "    <tr>\n",
       "      <th>1329325</th>\n",
       "      <td>1470.0</td>\n",
       "      <td>395000.0</td>\n",
       "      <td>409767.463229</td>\n",
       "      <td>323067.454661</td>\n",
       "    </tr>\n",
       "    <tr>\n",
       "      <th>682698</th>\n",
       "      <td>1218.0</td>\n",
       "      <td>696364.0</td>\n",
       "      <td>409767.463229</td>\n",
       "      <td>256744.699885</td>\n",
       "    </tr>\n",
       "  </tbody>\n",
       "</table></div>"
      ],
      "text/plain": [
       "         calculatedfinishedsquarefeet  taxvaluedollarcnt       baseline  \\\n",
       "1913513                        2420.0           562318.0  409767.463229   \n",
       "1886619                        1070.0           367613.0  409767.463229   \n",
       "318523                          788.0           165892.0  409767.463229   \n",
       "1329325                        1470.0           395000.0  409767.463229   \n",
       "682698                         1218.0           696364.0  409767.463229   \n",
       "\n",
       "           predictions  \n",
       "1913513  573093.712744  \n",
       "1886619  217793.240731  \n",
       "318523   143574.919910  \n",
       "1329325  323067.454661  \n",
       "682698   256744.699885  "
      ]
     },
     "execution_count": 34,
     "metadata": {},
     "output_type": "execute_result"
    }
   ],
   "source": [
    "df['baseline'] = df.taxvaluedollarcnt.mean()\n",
    "df['predictions'] = model.predict(X_train)\n",
    "df.head()"
   ]
  },
  {
   "cell_type": "code",
   "execution_count": 39,
   "id": "362b6915",
   "metadata": {},
   "outputs": [
    {
     "data": {
      "text/plain": [
       "Text(0.5, 1.0, 'OLS linear model')"
      ]
     },
     "execution_count": 39,
     "metadata": {},
     "output_type": "execute_result"
    },
    {
     "data": {
      "image/png": "[encoded data removed]",
      "text/plain": [
       "<Figure size 432x288 with 1 Axes>"
      ]
     },
     "metadata": {
      "needs_background": "light"
     },
     "output_type": "display_data"
    }
   ],
   "source": [
    "# visualize the line of best fit from OLS linear model\n",
    "plt.scatter(df.calculatedfinishedsquarefeet, df.taxvaluedollarcnt)\n",
    "plt.plot(df.calculatedfinishedsquarefeet, df.predictions, c='orange')\n",
    "plt.xlabel('x = SQ FT')\n",
    "plt.ylabel('y = PRICE')\n",
    "plt.title('OLS linear model')"
   ]
  },
  {
   "cell_type": "code",
   "execution_count": 58,
   "id": "7728c4eb",
   "metadata": {},
   "outputs": [
    {
     "data": {
      "text/html": [
       "<div><div id=1df60d50-1442-4715-9fb9-6cbb73aae376 style=\"display:none; background-color:#9D6CFF; color:white; width:200px; height:30px; padding-left:5px; border-radius:4px; flex-direction:row; justify-content:space-around; align-items:center;\" onmouseover=\"this.style.backgroundColor='#BA9BF8'\" onmouseout=\"this.style.backgroundColor='#9D6CFF'\" onclick=\"window.commands?.execute('create-mitosheet-from-dataframe-output');\">See Full Dataframe in Mito</div> <script> if (window.commands?.hasCommand('create-mitosheet-from-dataframe-output')) document.getElementById('1df60d50-1442-4715-9fb9-6cbb73aae376').style.display = 'flex' </script> <table border=\"1\" class=\"dataframe\">\n",
       "  <thead>\n",
       "    <tr style=\"text-align: right;\">\n",
       "      <th></th>\n",
       "      <th>calculatedfinishedsquarefeet</th>\n",
       "      <th>taxvaluedollarcnt</th>\n",
       "      <th>baseline</th>\n",
       "      <th>predictions</th>\n",
       "      <th>residual</th>\n",
       "      <th>baseline_resid</th>\n",
       "    </tr>\n",
       "  </thead>\n",
       "  <tbody>\n",
       "    <tr>\n",
       "      <th>1913513</th>\n",
       "      <td>2420.0</td>\n",
       "      <td>562318.0</td>\n",
       "      <td>409767.463229</td>\n",
       "      <td>573093.712744</td>\n",
       "      <td>-10775.712744</td>\n",
       "      <td>152550.536771</td>\n",
       "    </tr>\n",
       "    <tr>\n",
       "      <th>1886619</th>\n",
       "      <td>1070.0</td>\n",
       "      <td>367613.0</td>\n",
       "      <td>409767.463229</td>\n",
       "      <td>217793.240731</td>\n",
       "      <td>149819.759269</td>\n",
       "      <td>-42154.463229</td>\n",
       "    </tr>\n",
       "    <tr>\n",
       "      <th>318523</th>\n",
       "      <td>788.0</td>\n",
       "      <td>165892.0</td>\n",
       "      <td>409767.463229</td>\n",
       "      <td>143574.919910</td>\n",
       "      <td>22317.080090</td>\n",
       "      <td>-243875.463229</td>\n",
       "    </tr>\n",
       "    <tr>\n",
       "      <th>1329325</th>\n",
       "      <td>1470.0</td>\n",
       "      <td>395000.0</td>\n",
       "      <td>409767.463229</td>\n",
       "      <td>323067.454661</td>\n",
       "      <td>71932.545339</td>\n",
       "      <td>-14767.463229</td>\n",
       "    </tr>\n",
       "    <tr>\n",
       "      <th>682698</th>\n",
       "      <td>1218.0</td>\n",
       "      <td>696364.0</td>\n",
       "      <td>409767.463229</td>\n",
       "      <td>256744.699885</td>\n",
       "      <td>439619.300115</td>\n",
       "      <td>286596.536771</td>\n",
       "    </tr>\n",
       "  </tbody>\n",
       "</table></div>"
      ],
      "text/plain": [
       "         calculatedfinishedsquarefeet  taxvaluedollarcnt       baseline  \\\n",
       "1913513                        2420.0           562318.0  409767.463229   \n",
       "1886619                        1070.0           367613.0  409767.463229   \n",
       "318523                          788.0           165892.0  409767.463229   \n",
       "1329325                        1470.0           395000.0  409767.463229   \n",
       "682698                         1218.0           696364.0  409767.463229   \n",
       "\n",
       "           predictions       residual  baseline_resid  \n",
       "1913513  573093.712744  -10775.712744   152550.536771  \n",
       "1886619  217793.240731  149819.759269   -42154.463229  \n",
       "318523   143574.919910   22317.080090  -243875.463229  \n",
       "1329325  323067.454661   71932.545339   -14767.463229  \n",
       "682698   256744.699885  439619.300115   286596.536771  "
      ]
     },
     "execution_count": 58,
     "metadata": {},
     "output_type": "execute_result"
    }
   ],
   "source": [
    "df['residual'] = df.taxvaluedollarcnt-df.predictions\n",
    "df['baseline_resid'] = df.taxvaluedollarcnt-df.baseline\n",
    "df.head()"
   ]
  },
  {
   "cell_type": "markdown",
   "id": "924104a3",
   "metadata": {},
   "source": [
    "## 4./5. Calculate the sum of squared errors, explained sum of squares, total sum of squares, mean squared error, and root mean squared error for your model and baseline."
   ]
  },
  {
   "cell_type": "code",
   "execution_count": 41,
   "id": "5d078b5f",
   "metadata": {},
   "outputs": [
    {
     "name": "stdout",
     "output_type": "stream",
     "text": [
      "MSE 79460556376.61165\n",
      "Baseline MSE 120678915994.99362\n"
     ]
    }
   ],
   "source": [
    "from sklearn.metrics import mean_squared_error\n",
    "\n",
    "# Mean Squared Error\n",
    "MSE = mean_squared_error(df.taxvaluedollarcnt, df.predictions)\n",
    "MSE_baseline = mean_squared_error(df.taxvaluedollarcnt, df.baseline)\n",
    "print(\"MSE\", MSE)\n",
    "print(\"Baseline MSE\", MSE_baseline)"
   ]
  },
  {
   "cell_type": "code",
   "execution_count": 42,
   "id": "24f3a89d",
   "metadata": {},
   "outputs": [
    {
     "name": "stdout",
     "output_type": "stream",
     "text": [
      "SSE 9.33015523101845e+16\n",
      "SSE baseline 1.4169961433541357e+17\n"
     ]
    }
   ],
   "source": [
    "# Standard Squared Error\n",
    "SSE = MSE *len(df)\n",
    "SSE_baseline = MSE_baseline * len(df)\n",
    "\n",
    "print(\"SSE\", SSE)\n",
    "print(\"SSE baseline\", SSE_baseline)"
   ]
  },
  {
   "cell_type": "code",
   "execution_count": 43,
   "id": "b7de07c5",
   "metadata": {},
   "outputs": [
    {
     "name": "stdout",
     "output_type": "stream",
     "text": [
      "RMSE 281887.4888614456\n",
      "RMSE baseline 347388.7102296124\n"
     ]
    }
   ],
   "source": [
    "RMSE = mean_squared_error(df.taxvaluedollarcnt, df.predictions, squared=False)\n",
    "RMSE_baseline = mean_squared_error(df.taxvaluedollarcnt, df.baseline, squared=False)\n",
    "\n",
    "print(\"RMSE\", RMSE)\n",
    "print(\"RMSE baseline\", RMSE_baseline)"
   ]
  },
  {
   "cell_type": "markdown",
   "id": "3a0c0b73",
   "metadata": {},
   "source": [
    "## 7. What is the amount of variance explained in your model?"
   ]
  },
  {
   "cell_type": "code",
   "execution_count": 56,
   "id": "04cabee4",
   "metadata": {},
   "outputs": [
    {
     "name": "stdout",
     "output_type": "stream",
     "text": [
      "My R2 Score (explained variance) 0.3415539431932909\n"
     ]
    }
   ],
   "source": [
    "# calculate R2 the easy way:\n",
    "# r2 score = expected variance\n",
    "\n",
    "from sklearn.metrics import r2_score\n",
    "\n",
    "my_r2_score = r2_score(df.taxvaluedollarcnt, df.predictions)\n",
    "print(\"My R2 Score (explained variance)\", my_r2_score)"
   ]
  },
  {
   "cell_type": "code",
   "execution_count": 57,
   "id": "f3a25861",
   "metadata": {},
   "outputs": [
    {
     "name": "stdout",
     "output_type": "stream",
     "text": [
      "base R2 Score (explained variance) 0.0\n"
     ]
    }
   ],
   "source": [
    "base_r2_score = r2_score(df.taxvaluedollarcnt, df.baseline)\n",
    "print(\"base R2 Score (explained variance)\", base_r2_score)"
   ]
  },
  {
   "cell_type": "markdown",
   "id": "bb4475f5",
   "metadata": {},
   "source": [
    "## 8. Is your model better than the baseline model?"
   ]
  },
  {
   "cell_type": "markdown",
   "id": "07836b49",
   "metadata": {},
   "source": [
    "- Yes. \n",
    "    - My model has lower RMSE value (error in dollars)"
   ]
  },
  {
   "cell_type": "code",
   "execution_count": null,
   "id": "cb93253e",
   "metadata": {},
   "outputs": [],
   "source": []
  }
 ],
 "metadata": {
  "kernelspec": {
   "display_name": "Python 3 (ipykernel)",
   "language": "python",
   "name": "python3"
  },
  "language_info": {
   "codemirror_mode": {
    "name": "ipython",
    "version": 3
   },
   "file_extension": ".py",
   "mimetype": "text/x-python",
   "name": "python",
   "nbconvert_exporter": "python",
   "pygments_lexer": "ipython3",
   "version": "3.9.7"
  }
 },
 "nbformat": 4,
 "nbformat_minor": 5
}
