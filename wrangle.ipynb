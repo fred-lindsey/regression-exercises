{
 "cells": [
  {
   "cell_type": "markdown",
   "id": "65bbc5e6",
   "metadata": {},
   "source": [
    "## Step 1. Wrangle the Zillow data set"
   ]
  },
  {
   "cell_type": "code",
   "execution_count": 1,
   "id": "f19e8364",
   "metadata": {},
   "outputs": [],
   "source": [
    "import warnings\n",
    "warnings.filterwarnings(\"ignore\")\n",
    "\n",
    "import pandas as pd\n",
    "import matplotlib.pyplot as plt\n",
    "import seaborn as sns\n",
    "import numpy as np\n",
    "import env\n",
    "\n",
    "\n",
    "import wrangle"
   ]
  },
  {
   "cell_type": "code",
   "execution_count": 2,
   "id": "41a96392",
   "metadata": {},
   "outputs": [
    {
     "data": {
      "text/html": [
       "<div><div id=9a7c5e9a-40c5-47e0-b7c2-cf6b535347de style=\"display:none; background-color:#9D6CFF; color:white; width:200px; height:30px; padding-left:5px; border-radius:4px; flex-direction:row; justify-content:space-around; align-items:center;\" onmouseover=\"this.style.backgroundColor='#BA9BF8'\" onmouseout=\"this.style.backgroundColor='#9D6CFF'\" onclick=\"window.commands?.execute('create-mitosheet-from-dataframe-output');\">See Full Dataframe in Mito</div> <script> if (window.commands?.hasCommand('create-mitosheet-from-dataframe-output')) document.getElementById('9a7c5e9a-40c5-47e0-b7c2-cf6b535347de').style.display = 'flex' </script> <table border=\"1\" class=\"dataframe\">\n",
       "  <thead>\n",
       "    <tr style=\"text-align: right;\">\n",
       "      <th></th>\n",
       "      <th>parcelid</th>\n",
       "      <th>bedroomcnt</th>\n",
       "      <th>bathroomcnt</th>\n",
       "      <th>calculatedfinishedsquarefeet</th>\n",
       "      <th>taxvaluedollarcnt</th>\n",
       "      <th>yearbuilt</th>\n",
       "      <th>taxamount</th>\n",
       "      <th>fips</th>\n",
       "    </tr>\n",
       "  </thead>\n",
       "  <tbody>\n",
       "    <tr>\n",
       "      <th>0</th>\n",
       "      <td>10759547</td>\n",
       "      <td>0.0</td>\n",
       "      <td>0.0</td>\n",
       "      <td>NaN</td>\n",
       "      <td>27516.0</td>\n",
       "      <td>NaN</td>\n",
       "      <td>NaN</td>\n",
       "      <td>6037.0</td>\n",
       "    </tr>\n",
       "    <tr>\n",
       "      <th>1</th>\n",
       "      <td>11193347</td>\n",
       "      <td>0.0</td>\n",
       "      <td>0.0</td>\n",
       "      <td>NaN</td>\n",
       "      <td>10.0</td>\n",
       "      <td>NaN</td>\n",
       "      <td>NaN</td>\n",
       "      <td>6037.0</td>\n",
       "    </tr>\n",
       "    <tr>\n",
       "      <th>2</th>\n",
       "      <td>11215747</td>\n",
       "      <td>0.0</td>\n",
       "      <td>0.0</td>\n",
       "      <td>NaN</td>\n",
       "      <td>10.0</td>\n",
       "      <td>NaN</td>\n",
       "      <td>NaN</td>\n",
       "      <td>6037.0</td>\n",
       "    </tr>\n",
       "    <tr>\n",
       "      <th>3</th>\n",
       "      <td>11229347</td>\n",
       "      <td>0.0</td>\n",
       "      <td>0.0</td>\n",
       "      <td>NaN</td>\n",
       "      <td>2108.0</td>\n",
       "      <td>NaN</td>\n",
       "      <td>174.21</td>\n",
       "      <td>6037.0</td>\n",
       "    </tr>\n",
       "    <tr>\n",
       "      <th>4</th>\n",
       "      <td>11324547</td>\n",
       "      <td>4.0</td>\n",
       "      <td>2.0</td>\n",
       "      <td>3633.0</td>\n",
       "      <td>296425.0</td>\n",
       "      <td>2005.0</td>\n",
       "      <td>6941.39</td>\n",
       "      <td>6037.0</td>\n",
       "    </tr>\n",
       "  </tbody>\n",
       "</table></div>"
      ],
      "text/plain": [
       "   parcelid  bedroomcnt  bathroomcnt  calculatedfinishedsquarefeet  \\\n",
       "0  10759547         0.0          0.0                           NaN   \n",
       "1  11193347         0.0          0.0                           NaN   \n",
       "2  11215747         0.0          0.0                           NaN   \n",
       "3  11229347         0.0          0.0                           NaN   \n",
       "4  11324547         4.0          2.0                        3633.0   \n",
       "\n",
       "   taxvaluedollarcnt  yearbuilt  taxamount    fips  \n",
       "0            27516.0        NaN        NaN  6037.0  \n",
       "1               10.0        NaN        NaN  6037.0  \n",
       "2               10.0        NaN        NaN  6037.0  \n",
       "3             2108.0        NaN     174.21  6037.0  \n",
       "4           296425.0     2005.0    6941.39  6037.0  "
      ]
     },
     "execution_count": 2,
     "metadata": {},
     "output_type": "execute_result"
    }
   ],
   "source": [
    "df = wrangle.get_zillow_data()\n",
    "df.head()"
   ]
  },
  {
   "cell_type": "code",
   "execution_count": 3,
   "id": "903e3995",
   "metadata": {},
   "outputs": [
    {
     "data": {
      "text/plain": [
       "17222912"
      ]
     },
     "execution_count": 3,
     "metadata": {},
     "output_type": "execute_result"
    }
   ],
   "source": [
    "df.size"
   ]
  },
  {
   "cell_type": "code",
   "execution_count": 4,
   "id": "e7528432",
   "metadata": {},
   "outputs": [
    {
     "data": {
      "text/plain": [
       "(2152864, 8)"
      ]
     },
     "execution_count": 4,
     "metadata": {},
     "output_type": "execute_result"
    }
   ],
   "source": [
    "df.shape"
   ]
  },
  {
   "cell_type": "markdown",
   "id": "d99eb6f2",
   "metadata": {},
   "source": [
    "### 2.153 mn rows of data"
   ]
  },
  {
   "cell_type": "code",
   "execution_count": 5,
   "id": "503e83b9",
   "metadata": {},
   "outputs": [
    {
     "data": {
      "text/html": [
       "<div><div id=72f41bf0-7502-45bb-b6a9-64d1eec389f8 style=\"display:none; background-color:#9D6CFF; color:white; width:200px; height:30px; padding-left:5px; border-radius:4px; flex-direction:row; justify-content:space-around; align-items:center;\" onmouseover=\"this.style.backgroundColor='#BA9BF8'\" onmouseout=\"this.style.backgroundColor='#9D6CFF'\" onclick=\"window.commands?.execute('create-mitosheet-from-dataframe-output');\">See Full Dataframe in Mito</div> <script> if (window.commands?.hasCommand('create-mitosheet-from-dataframe-output')) document.getElementById('72f41bf0-7502-45bb-b6a9-64d1eec389f8').style.display = 'flex' </script> <table border=\"1\" class=\"dataframe\">\n",
       "  <thead>\n",
       "    <tr style=\"text-align: right;\">\n",
       "      <th></th>\n",
       "      <th>count</th>\n",
       "      <th>mean</th>\n",
       "      <th>std</th>\n",
       "      <th>min</th>\n",
       "      <th>25%</th>\n",
       "      <th>50%</th>\n",
       "      <th>75%</th>\n",
       "      <th>max</th>\n",
       "    </tr>\n",
       "  </thead>\n",
       "  <tbody>\n",
       "    <tr>\n",
       "      <th>parcelid</th>\n",
       "      <td>2152864.0</td>\n",
       "      <td>1.309657e+07</td>\n",
       "      <td>5.171556e+06</td>\n",
       "      <td>10711725.00</td>\n",
       "      <td>1.165907e+07</td>\n",
       "      <td>1.259851e+07</td>\n",
       "      <td>1.405609e+07</td>\n",
       "      <td>1.696019e+08</td>\n",
       "    </tr>\n",
       "    <tr>\n",
       "      <th>bedroomcnt</th>\n",
       "      <td>2152853.0</td>\n",
       "      <td>3.287195e+00</td>\n",
       "      <td>9.547568e-01</td>\n",
       "      <td>0.00</td>\n",
       "      <td>3.000000e+00</td>\n",
       "      <td>3.000000e+00</td>\n",
       "      <td>4.000000e+00</td>\n",
       "      <td>2.500000e+01</td>\n",
       "    </tr>\n",
       "    <tr>\n",
       "      <th>bathroomcnt</th>\n",
       "      <td>2152853.0</td>\n",
       "      <td>2.230687e+00</td>\n",
       "      <td>9.992805e-01</td>\n",
       "      <td>0.00</td>\n",
       "      <td>2.000000e+00</td>\n",
       "      <td>2.000000e+00</td>\n",
       "      <td>3.000000e+00</td>\n",
       "      <td>3.200000e+01</td>\n",
       "    </tr>\n",
       "    <tr>\n",
       "      <th>calculatedfinishedsquarefeet</th>\n",
       "      <td>2144379.0</td>\n",
       "      <td>1.862855e+03</td>\n",
       "      <td>1.222125e+03</td>\n",
       "      <td>1.00</td>\n",
       "      <td>1.257000e+03</td>\n",
       "      <td>1.623000e+03</td>\n",
       "      <td>2.208000e+03</td>\n",
       "      <td>9.525760e+05</td>\n",
       "    </tr>\n",
       "    <tr>\n",
       "      <th>taxvaluedollarcnt</th>\n",
       "      <td>2152371.0</td>\n",
       "      <td>4.618961e+05</td>\n",
       "      <td>6.996759e+05</td>\n",
       "      <td>1.00</td>\n",
       "      <td>1.881700e+05</td>\n",
       "      <td>3.276710e+05</td>\n",
       "      <td>5.345270e+05</td>\n",
       "      <td>9.842891e+07</td>\n",
       "    </tr>\n",
       "    <tr>\n",
       "      <th>yearbuilt</th>\n",
       "      <td>2143526.0</td>\n",
       "      <td>1.960950e+03</td>\n",
       "      <td>2.216220e+01</td>\n",
       "      <td>1801.00</td>\n",
       "      <td>1.949000e+03</td>\n",
       "      <td>1.958000e+03</td>\n",
       "      <td>1.976000e+03</td>\n",
       "      <td>2.016000e+03</td>\n",
       "    </tr>\n",
       "    <tr>\n",
       "      <th>taxamount</th>\n",
       "      <td>2148422.0</td>\n",
       "      <td>5.634864e+03</td>\n",
       "      <td>8.178909e+03</td>\n",
       "      <td>1.85</td>\n",
       "      <td>2.534972e+03</td>\n",
       "      <td>4.108945e+03</td>\n",
       "      <td>6.414318e+03</td>\n",
       "      <td>1.337756e+06</td>\n",
       "    </tr>\n",
       "    <tr>\n",
       "      <th>fips</th>\n",
       "      <td>2152864.0</td>\n",
       "      <td>6.048377e+03</td>\n",
       "      <td>2.043329e+01</td>\n",
       "      <td>6037.00</td>\n",
       "      <td>6.037000e+03</td>\n",
       "      <td>6.037000e+03</td>\n",
       "      <td>6.059000e+03</td>\n",
       "      <td>6.111000e+03</td>\n",
       "    </tr>\n",
       "  </tbody>\n",
       "</table></div>"
      ],
      "text/plain": [
       "                                  count          mean           std  \\\n",
       "parcelid                      2152864.0  1.309657e+07  5.171556e+06   \n",
       "bedroomcnt                    2152853.0  3.287195e+00  9.547568e-01   \n",
       "bathroomcnt                   2152853.0  2.230687e+00  9.992805e-01   \n",
       "calculatedfinishedsquarefeet  2144379.0  1.862855e+03  1.222125e+03   \n",
       "taxvaluedollarcnt             2152371.0  4.618961e+05  6.996759e+05   \n",
       "yearbuilt                     2143526.0  1.960950e+03  2.216220e+01   \n",
       "taxamount                     2148422.0  5.634864e+03  8.178909e+03   \n",
       "fips                          2152864.0  6.048377e+03  2.043329e+01   \n",
       "\n",
       "                                      min           25%           50%  \\\n",
       "parcelid                      10711725.00  1.165907e+07  1.259851e+07   \n",
       "bedroomcnt                           0.00  3.000000e+00  3.000000e+00   \n",
       "bathroomcnt                          0.00  2.000000e+00  2.000000e+00   \n",
       "calculatedfinishedsquarefeet         1.00  1.257000e+03  1.623000e+03   \n",
       "taxvaluedollarcnt                    1.00  1.881700e+05  3.276710e+05   \n",
       "yearbuilt                         1801.00  1.949000e+03  1.958000e+03   \n",
       "taxamount                            1.85  2.534972e+03  4.108945e+03   \n",
       "fips                              6037.00  6.037000e+03  6.037000e+03   \n",
       "\n",
       "                                       75%           max  \n",
       "parcelid                      1.405609e+07  1.696019e+08  \n",
       "bedroomcnt                    4.000000e+00  2.500000e+01  \n",
       "bathroomcnt                   3.000000e+00  3.200000e+01  \n",
       "calculatedfinishedsquarefeet  2.208000e+03  9.525760e+05  \n",
       "taxvaluedollarcnt             5.345270e+05  9.842891e+07  \n",
       "yearbuilt                     1.976000e+03  2.016000e+03  \n",
       "taxamount                     6.414318e+03  1.337756e+06  \n",
       "fips                          6.059000e+03  6.111000e+03  "
      ]
     },
     "execution_count": 5,
     "metadata": {},
     "output_type": "execute_result"
    }
   ],
   "source": [
    "df.describe().T"
   ]
  },
  {
   "cell_type": "code",
   "execution_count": 6,
   "id": "61436d24",
   "metadata": {},
   "outputs": [
    {
     "name": "stdout",
     "output_type": "stream",
     "text": [
      "<class 'pandas.core.frame.DataFrame'>\n",
      "RangeIndex: 2152864 entries, 0 to 2152863\n",
      "Data columns (total 8 columns):\n",
      " #   Column                        Dtype  \n",
      "---  ------                        -----  \n",
      " 0   parcelid                      int64  \n",
      " 1   bedroomcnt                    float64\n",
      " 2   bathroomcnt                   float64\n",
      " 3   calculatedfinishedsquarefeet  float64\n",
      " 4   taxvaluedollarcnt             float64\n",
      " 5   yearbuilt                     float64\n",
      " 6   taxamount                     float64\n",
      " 7   fips                          float64\n",
      "dtypes: float64(7), int64(1)\n",
      "memory usage: 131.4 MB\n"
     ]
    }
   ],
   "source": [
    "df.info()"
   ]
  },
  {
   "cell_type": "markdown",
   "id": "922fe46d",
   "metadata": {},
   "source": [
    "### I need to convert bedroom, bathroom, sq ft and year built into int type later "
   ]
  },
  {
   "cell_type": "code",
   "execution_count": 7,
   "id": "c65d6be2",
   "metadata": {},
   "outputs": [
    {
     "name": "stdout",
     "output_type": "stream",
     "text": [
      "<class 'pandas.core.frame.DataFrame'>\n",
      "RangeIndex: 2152864 entries, 0 to 2152863\n",
      "Data columns (total 8 columns):\n",
      " #   Column                        Non-Null Count    Dtype  \n",
      "---  ------                        --------------    -----  \n",
      " 0   parcelid                      2152864 non-null  int64  \n",
      " 1   bedroomcnt                    2152853 non-null  float64\n",
      " 2   bathroomcnt                   2152853 non-null  float64\n",
      " 3   calculatedfinishedsquarefeet  2144379 non-null  float64\n",
      " 4   taxvaluedollarcnt             2152371 non-null  float64\n",
      " 5   yearbuilt                     2143526 non-null  float64\n",
      " 6   taxamount                     2148422 non-null  float64\n",
      " 7   fips                          2152864 non-null  float64\n",
      "dtypes: float64(7), int64(1)\n",
      "memory usage: 131.4 MB\n"
     ]
    }
   ],
   "source": [
    "df.info(show_counts = True) #shows non-null counts"
   ]
  },
  {
   "cell_type": "markdown",
   "id": "dca62ad5",
   "metadata": {},
   "source": [
    "## How much of the data is null? About 1.1%, across all categories. I'm comfortable dropping that in the interest of time, considering the size of the remaining data."
   ]
  },
  {
   "cell_type": "code",
   "execution_count": 8,
   "id": "1cebad51",
   "metadata": {},
   "outputs": [
    {
     "data": {
      "text/plain": [
       "parcelid                           0\n",
       "bedroomcnt                        11\n",
       "bathroomcnt                       11\n",
       "calculatedfinishedsquarefeet    8485\n",
       "taxvaluedollarcnt                493\n",
       "yearbuilt                       9338\n",
       "taxamount                       4442\n",
       "fips                               0\n",
       "dtype: int64"
      ]
     },
     "execution_count": 8,
     "metadata": {},
     "output_type": "execute_result"
    }
   ],
   "source": [
    "null_sum = pd.Series(df.isnull().sum()) #shows null counts\n",
    "null_sum"
   ]
  },
  {
   "cell_type": "code",
   "execution_count": 9,
   "id": "96d09795",
   "metadata": {},
   "outputs": [
    {
     "data": {
      "text/plain": [
       "22780"
      ]
     },
     "execution_count": 9,
     "metadata": {},
     "output_type": "execute_result"
    }
   ],
   "source": [
    "null_sum.sum()"
   ]
  },
  {
   "cell_type": "code",
   "execution_count": 10,
   "id": "7747bc8d",
   "metadata": {},
   "outputs": [
    {
     "data": {
      "text/plain": [
       "0.010581253623080697"
      ]
     },
     "execution_count": 10,
     "metadata": {},
     "output_type": "execute_result"
    }
   ],
   "source": [
    "(null_sum.sum()/len(df))"
   ]
  },
  {
   "cell_type": "code",
   "execution_count": 11,
   "id": "ea9de48b",
   "metadata": {},
   "outputs": [
    {
     "data": {
      "text/html": [
       "<div><div id=ff3349e3-46ec-464f-a9a4-f9fc063c7184 style=\"display:none; background-color:#9D6CFF; color:white; width:200px; height:30px; padding-left:5px; border-radius:4px; flex-direction:row; justify-content:space-around; align-items:center;\" onmouseover=\"this.style.backgroundColor='#BA9BF8'\" onmouseout=\"this.style.backgroundColor='#9D6CFF'\" onclick=\"window.commands?.execute('create-mitosheet-from-dataframe-output');\">See Full Dataframe in Mito</div> <script> if (window.commands?.hasCommand('create-mitosheet-from-dataframe-output')) document.getElementById('ff3349e3-46ec-464f-a9a4-f9fc063c7184').style.display = 'flex' </script> <table border=\"1\" class=\"dataframe\">\n",
       "  <thead>\n",
       "    <tr style=\"text-align: right;\">\n",
       "      <th></th>\n",
       "      <th>parcelid</th>\n",
       "      <th>bedroomcnt</th>\n",
       "      <th>bathroomcnt</th>\n",
       "      <th>calculatedfinishedsquarefeet</th>\n",
       "      <th>taxvaluedollarcnt</th>\n",
       "      <th>yearbuilt</th>\n",
       "      <th>taxamount</th>\n",
       "      <th>fips</th>\n",
       "    </tr>\n",
       "  </thead>\n",
       "  <tbody>\n",
       "    <tr>\n",
       "      <th>0</th>\n",
       "      <td>10759547</td>\n",
       "      <td>0.0</td>\n",
       "      <td>0.0</td>\n",
       "      <td>NaN</td>\n",
       "      <td>27516.0</td>\n",
       "      <td>NaN</td>\n",
       "      <td>NaN</td>\n",
       "      <td>6037.0</td>\n",
       "    </tr>\n",
       "    <tr>\n",
       "      <th>1</th>\n",
       "      <td>11193347</td>\n",
       "      <td>0.0</td>\n",
       "      <td>0.0</td>\n",
       "      <td>NaN</td>\n",
       "      <td>10.0</td>\n",
       "      <td>NaN</td>\n",
       "      <td>NaN</td>\n",
       "      <td>6037.0</td>\n",
       "    </tr>\n",
       "    <tr>\n",
       "      <th>2</th>\n",
       "      <td>11215747</td>\n",
       "      <td>0.0</td>\n",
       "      <td>0.0</td>\n",
       "      <td>NaN</td>\n",
       "      <td>10.0</td>\n",
       "      <td>NaN</td>\n",
       "      <td>NaN</td>\n",
       "      <td>6037.0</td>\n",
       "    </tr>\n",
       "    <tr>\n",
       "      <th>3</th>\n",
       "      <td>11229347</td>\n",
       "      <td>0.0</td>\n",
       "      <td>0.0</td>\n",
       "      <td>NaN</td>\n",
       "      <td>2108.0</td>\n",
       "      <td>NaN</td>\n",
       "      <td>174.21</td>\n",
       "      <td>6037.0</td>\n",
       "    </tr>\n",
       "    <tr>\n",
       "      <th>4</th>\n",
       "      <td>11324547</td>\n",
       "      <td>4.0</td>\n",
       "      <td>2.0</td>\n",
       "      <td>3633.0</td>\n",
       "      <td>296425.0</td>\n",
       "      <td>2005.0</td>\n",
       "      <td>6941.39</td>\n",
       "      <td>6037.0</td>\n",
       "    </tr>\n",
       "  </tbody>\n",
       "</table></div>"
      ],
      "text/plain": [
       "   parcelid  bedroomcnt  bathroomcnt  calculatedfinishedsquarefeet  \\\n",
       "0  10759547         0.0          0.0                           NaN   \n",
       "1  11193347         0.0          0.0                           NaN   \n",
       "2  11215747         0.0          0.0                           NaN   \n",
       "3  11229347         0.0          0.0                           NaN   \n",
       "4  11324547         4.0          2.0                        3633.0   \n",
       "\n",
       "   taxvaluedollarcnt  yearbuilt  taxamount    fips  \n",
       "0            27516.0        NaN        NaN  6037.0  \n",
       "1               10.0        NaN        NaN  6037.0  \n",
       "2               10.0        NaN        NaN  6037.0  \n",
       "3             2108.0        NaN     174.21  6037.0  \n",
       "4           296425.0     2005.0    6941.39  6037.0  "
      ]
     },
     "execution_count": 11,
     "metadata": {},
     "output_type": "execute_result"
    }
   ],
   "source": [
    "# remove empty entries stored as whitespace, convert to nulls\n",
    "df = df.replace(r'^\\s*$', np.nan, regex=True)\n",
    "df.head()"
   ]
  },
  {
   "cell_type": "code",
   "execution_count": 12,
   "id": "0c408882",
   "metadata": {},
   "outputs": [
    {
     "data": {
      "text/plain": [
       "parcelid                           0\n",
       "bedroomcnt                        11\n",
       "bathroomcnt                       11\n",
       "calculatedfinishedsquarefeet    8485\n",
       "taxvaluedollarcnt                493\n",
       "yearbuilt                       9338\n",
       "taxamount                       4442\n",
       "fips                               0\n",
       "dtype: int64"
      ]
     },
     "execution_count": 12,
     "metadata": {},
     "output_type": "execute_result"
    }
   ],
   "source": [
    "## verify whitespace has been converted to null\n",
    "df.isna().sum()"
   ]
  },
  {
   "cell_type": "code",
   "execution_count": 13,
   "id": "b1cfef76",
   "metadata": {},
   "outputs": [
    {
     "data": {
      "text/plain": [
       "(2140235, 8)"
      ]
     },
     "execution_count": 13,
     "metadata": {},
     "output_type": "execute_result"
    }
   ],
   "source": [
    "# drop null rows\n",
    "df = df.dropna()\n",
    "df.shape"
   ]
  },
  {
   "cell_type": "code",
   "execution_count": 14,
   "id": "282d9b97",
   "metadata": {},
   "outputs": [
    {
     "data": {
      "text/plain": [
       "(2140235, 8)"
      ]
     },
     "execution_count": 14,
     "metadata": {},
     "output_type": "execute_result"
    }
   ],
   "source": [
    "# drop any duplicate rows\n",
    "df = df.drop_duplicates(keep='first')\n",
    "df.shape"
   ]
  },
  {
   "cell_type": "code",
   "execution_count": 15,
   "id": "3c1a2f95",
   "metadata": {},
   "outputs": [
    {
     "data": {
      "text/html": [
       "<div><div id=9f76067b-aa23-40dc-bbdf-e1961302e970 style=\"display:none; background-color:#9D6CFF; color:white; width:200px; height:30px; padding-left:5px; border-radius:4px; flex-direction:row; justify-content:space-around; align-items:center;\" onmouseover=\"this.style.backgroundColor='#BA9BF8'\" onmouseout=\"this.style.backgroundColor='#9D6CFF'\" onclick=\"window.commands?.execute('create-mitosheet-from-dataframe-output');\">See Full Dataframe in Mito</div> <script> if (window.commands?.hasCommand('create-mitosheet-from-dataframe-output')) document.getElementById('9f76067b-aa23-40dc-bbdf-e1961302e970').style.display = 'flex' </script> <table border=\"1\" class=\"dataframe\">\n",
       "  <thead>\n",
       "    <tr style=\"text-align: right;\">\n",
       "      <th></th>\n",
       "      <th>parcelid</th>\n",
       "      <th>bedroomcnt</th>\n",
       "      <th>bathroomcnt</th>\n",
       "      <th>calculatedfinishedsquarefeet</th>\n",
       "      <th>taxvaluedollarcnt</th>\n",
       "      <th>yearbuilt</th>\n",
       "      <th>taxamount</th>\n",
       "      <th>fips</th>\n",
       "    </tr>\n",
       "  </thead>\n",
       "  <tbody>\n",
       "    <tr>\n",
       "      <th>4</th>\n",
       "      <td>11324547</td>\n",
       "      <td>4</td>\n",
       "      <td>2.0</td>\n",
       "      <td>3633</td>\n",
       "      <td>296425.0</td>\n",
       "      <td>2005</td>\n",
       "      <td>6941.39</td>\n",
       "      <td>6037</td>\n",
       "    </tr>\n",
       "    <tr>\n",
       "      <th>6</th>\n",
       "      <td>11544747</td>\n",
       "      <td>3</td>\n",
       "      <td>4.0</td>\n",
       "      <td>1620</td>\n",
       "      <td>847770.0</td>\n",
       "      <td>2011</td>\n",
       "      <td>10244.94</td>\n",
       "      <td>6037</td>\n",
       "    </tr>\n",
       "    <tr>\n",
       "      <th>7</th>\n",
       "      <td>11585547</td>\n",
       "      <td>3</td>\n",
       "      <td>2.0</td>\n",
       "      <td>2077</td>\n",
       "      <td>646760.0</td>\n",
       "      <td>1926</td>\n",
       "      <td>7924.68</td>\n",
       "      <td>6037</td>\n",
       "    </tr>\n",
       "    <tr>\n",
       "      <th>11</th>\n",
       "      <td>11954547</td>\n",
       "      <td>0</td>\n",
       "      <td>0.0</td>\n",
       "      <td>1200</td>\n",
       "      <td>5328.0</td>\n",
       "      <td>1972</td>\n",
       "      <td>91.60</td>\n",
       "      <td>6037</td>\n",
       "    </tr>\n",
       "    <tr>\n",
       "      <th>14</th>\n",
       "      <td>12537947</td>\n",
       "      <td>0</td>\n",
       "      <td>0.0</td>\n",
       "      <td>171</td>\n",
       "      <td>6920.0</td>\n",
       "      <td>1973</td>\n",
       "      <td>255.17</td>\n",
       "      <td>6037</td>\n",
       "    </tr>\n",
       "  </tbody>\n",
       "</table></div>"
      ],
      "text/plain": [
       "    parcelid  bedroomcnt  bathroomcnt  calculatedfinishedsquarefeet  \\\n",
       "4   11324547           4          2.0                          3633   \n",
       "6   11544747           3          4.0                          1620   \n",
       "7   11585547           3          2.0                          2077   \n",
       "11  11954547           0          0.0                          1200   \n",
       "14  12537947           0          0.0                           171   \n",
       "\n",
       "    taxvaluedollarcnt  yearbuilt  taxamount  fips  \n",
       "4            296425.0       2005    6941.39  6037  \n",
       "6            847770.0       2011   10244.94  6037  \n",
       "7            646760.0       1926    7924.68  6037  \n",
       "11             5328.0       1972      91.60  6037  \n",
       "14             6920.0       1973     255.17  6037  "
      ]
     },
     "execution_count": 15,
     "metadata": {},
     "output_type": "execute_result"
    }
   ],
   "source": [
    "# convert column types\n",
    "df = df.astype({'bedroomcnt': int, 'fips':int,\n",
    "          'calculatedfinishedsquarefeet': int, 'yearbuilt': int})\n",
    "df.head()"
   ]
  },
  {
   "cell_type": "code",
   "execution_count": 16,
   "id": "76693dce",
   "metadata": {},
   "outputs": [],
   "source": [
    "# look at value counts for bed/bath\n",
    "\n",
    "df_missing_info = df[(df.bedroomcnt == 0) | (df.bathroomcnt == 0) | (df.calculatedfinishedsquarefeet <= 70)]"
   ]
  },
  {
   "cell_type": "code",
   "execution_count": 17,
   "id": "b34852e7",
   "metadata": {},
   "outputs": [
    {
     "data": {
      "text/html": [
       "<div><div id=e4e58097-c112-45e4-bcef-8bdf480b26ff style=\"display:none; background-color:#9D6CFF; color:white; width:200px; height:30px; padding-left:5px; border-radius:4px; flex-direction:row; justify-content:space-around; align-items:center;\" onmouseover=\"this.style.backgroundColor='#BA9BF8'\" onmouseout=\"this.style.backgroundColor='#9D6CFF'\" onclick=\"window.commands?.execute('create-mitosheet-from-dataframe-output');\">See Full Dataframe in Mito</div> <script> if (window.commands?.hasCommand('create-mitosheet-from-dataframe-output')) document.getElementById('e4e58097-c112-45e4-bcef-8bdf480b26ff').style.display = 'flex' </script> <table border=\"1\" class=\"dataframe\">\n",
       "  <thead>\n",
       "    <tr style=\"text-align: right;\">\n",
       "      <th></th>\n",
       "      <th>count</th>\n",
       "      <th>mean</th>\n",
       "      <th>std</th>\n",
       "      <th>min</th>\n",
       "      <th>25%</th>\n",
       "      <th>50%</th>\n",
       "      <th>75%</th>\n",
       "      <th>max</th>\n",
       "    </tr>\n",
       "  </thead>\n",
       "  <tbody>\n",
       "    <tr>\n",
       "      <th>parcelid</th>\n",
       "      <td>5346.0</td>\n",
       "      <td>1.355271e+07</td>\n",
       "      <td>9.103736e+06</td>\n",
       "      <td>10713128.00</td>\n",
       "      <td>1.152422e+07</td>\n",
       "      <td>12023713.50</td>\n",
       "      <td>1.298200e+07</td>\n",
       "      <td>1.676892e+08</td>\n",
       "    </tr>\n",
       "    <tr>\n",
       "      <th>bedroomcnt</th>\n",
       "      <td>5346.0</td>\n",
       "      <td>5.402170e-01</td>\n",
       "      <td>1.303651e+00</td>\n",
       "      <td>0.00</td>\n",
       "      <td>0.000000e+00</td>\n",
       "      <td>0.00</td>\n",
       "      <td>0.000000e+00</td>\n",
       "      <td>1.800000e+01</td>\n",
       "    </tr>\n",
       "    <tr>\n",
       "      <th>bathroomcnt</th>\n",
       "      <td>5346.0</td>\n",
       "      <td>3.221100e-01</td>\n",
       "      <td>1.089222e+00</td>\n",
       "      <td>0.00</td>\n",
       "      <td>0.000000e+00</td>\n",
       "      <td>0.00</td>\n",
       "      <td>0.000000e+00</td>\n",
       "      <td>2.000000e+01</td>\n",
       "    </tr>\n",
       "    <tr>\n",
       "      <th>calculatedfinishedsquarefeet</th>\n",
       "      <td>5346.0</td>\n",
       "      <td>1.464158e+03</td>\n",
       "      <td>7.606771e+03</td>\n",
       "      <td>1.00</td>\n",
       "      <td>3.780000e+02</td>\n",
       "      <td>722.00</td>\n",
       "      <td>1.565500e+03</td>\n",
       "      <td>5.311180e+05</td>\n",
       "    </tr>\n",
       "    <tr>\n",
       "      <th>taxvaluedollarcnt</th>\n",
       "      <td>5346.0</td>\n",
       "      <td>3.666633e+05</td>\n",
       "      <td>1.336631e+06</td>\n",
       "      <td>22.00</td>\n",
       "      <td>3.035875e+04</td>\n",
       "      <td>124368.50</td>\n",
       "      <td>3.223152e+05</td>\n",
       "      <td>3.336760e+07</td>\n",
       "    </tr>\n",
       "    <tr>\n",
       "      <th>yearbuilt</th>\n",
       "      <td>5346.0</td>\n",
       "      <td>1.953951e+03</td>\n",
       "      <td>2.709895e+01</td>\n",
       "      <td>1890.00</td>\n",
       "      <td>1.930000e+03</td>\n",
       "      <td>1953.00</td>\n",
       "      <td>1.978000e+03</td>\n",
       "      <td>2.016000e+03</td>\n",
       "    </tr>\n",
       "    <tr>\n",
       "      <th>taxamount</th>\n",
       "      <td>5346.0</td>\n",
       "      <td>4.453605e+03</td>\n",
       "      <td>1.568612e+04</td>\n",
       "      <td>6.34</td>\n",
       "      <td>5.066025e+02</td>\n",
       "      <td>1734.72</td>\n",
       "      <td>4.061953e+03</td>\n",
       "      <td>3.993695e+05</td>\n",
       "    </tr>\n",
       "    <tr>\n",
       "      <th>fips</th>\n",
       "      <td>5346.0</td>\n",
       "      <td>6.050426e+03</td>\n",
       "      <td>2.720347e+01</td>\n",
       "      <td>6037.00</td>\n",
       "      <td>6.037000e+03</td>\n",
       "      <td>6037.00</td>\n",
       "      <td>6.037000e+03</td>\n",
       "      <td>6.111000e+03</td>\n",
       "    </tr>\n",
       "  </tbody>\n",
       "</table></div>"
      ],
      "text/plain": [
       "                               count          mean           std          min  \\\n",
       "parcelid                      5346.0  1.355271e+07  9.103736e+06  10713128.00   \n",
       "bedroomcnt                    5346.0  5.402170e-01  1.303651e+00         0.00   \n",
       "bathroomcnt                   5346.0  3.221100e-01  1.089222e+00         0.00   \n",
       "calculatedfinishedsquarefeet  5346.0  1.464158e+03  7.606771e+03         1.00   \n",
       "taxvaluedollarcnt             5346.0  3.666633e+05  1.336631e+06        22.00   \n",
       "yearbuilt                     5346.0  1.953951e+03  2.709895e+01      1890.00   \n",
       "taxamount                     5346.0  4.453605e+03  1.568612e+04         6.34   \n",
       "fips                          5346.0  6.050426e+03  2.720347e+01      6037.00   \n",
       "\n",
       "                                       25%          50%           75%  \\\n",
       "parcelid                      1.152422e+07  12023713.50  1.298200e+07   \n",
       "bedroomcnt                    0.000000e+00         0.00  0.000000e+00   \n",
       "bathroomcnt                   0.000000e+00         0.00  0.000000e+00   \n",
       "calculatedfinishedsquarefeet  3.780000e+02       722.00  1.565500e+03   \n",
       "taxvaluedollarcnt             3.035875e+04    124368.50  3.223152e+05   \n",
       "yearbuilt                     1.930000e+03      1953.00  1.978000e+03   \n",
       "taxamount                     5.066025e+02      1734.72  4.061953e+03   \n",
       "fips                          6.037000e+03      6037.00  6.037000e+03   \n",
       "\n",
       "                                       max  \n",
       "parcelid                      1.676892e+08  \n",
       "bedroomcnt                    1.800000e+01  \n",
       "bathroomcnt                   2.000000e+01  \n",
       "calculatedfinishedsquarefeet  5.311180e+05  \n",
       "taxvaluedollarcnt             3.336760e+07  \n",
       "yearbuilt                     2.016000e+03  \n",
       "taxamount                     3.993695e+05  \n",
       "fips                          6.111000e+03  "
      ]
     },
     "execution_count": 17,
     "metadata": {},
     "output_type": "execute_result"
    }
   ],
   "source": [
    "df_missing_info.describe().T"
   ]
  },
  {
   "cell_type": "markdown",
   "id": "7d84928c",
   "metadata": {},
   "source": [
    "### For the df of missing values, let's see what they are commonly missing, and a distribution of price"
   ]
  },
  {
   "cell_type": "code",
   "execution_count": 18,
   "id": "26b9c6d1",
   "metadata": {},
   "outputs": [
    {
     "data": {
      "text/plain": [
       "<AxesSubplot:>"
      ]
     },
     "execution_count": 18,
     "metadata": {},
     "output_type": "execute_result"
    },
    {
     "data": {
      "image/png": "[encoded data removed]",
      "text/plain": [
       "<Figure size 432x288 with 1 Axes>"
      ]
     },
     "metadata": {
      "needs_background": "light"
     },
     "output_type": "display_data"
    }
   ],
   "source": [
    "df_missing_info.bedroomcnt.hist()"
   ]
  },
  {
   "cell_type": "code",
   "execution_count": 19,
   "id": "9b38cc61",
   "metadata": {},
   "outputs": [
    {
     "data": {
      "text/plain": [
       "<AxesSubplot:>"
      ]
     },
     "execution_count": 19,
     "metadata": {},
     "output_type": "execute_result"
    },
    {
     "data": {
      "image/png": "[encoded data removed]",
      "text/plain": [
       "<Figure size 432x288 with 1 Axes>"
      ]
     },
     "metadata": {
      "needs_background": "light"
     },
     "output_type": "display_data"
    }
   ],
   "source": [
    "df_missing_info.bathroomcnt.hist()"
   ]
  },
  {
   "cell_type": "code",
   "execution_count": 20,
   "id": "1da77e14",
   "metadata": {},
   "outputs": [
    {
     "data": {
      "text/plain": [
       "<AxesSubplot:>"
      ]
     },
     "execution_count": 20,
     "metadata": {},
     "output_type": "execute_result"
    },
    {
     "data": {
      "image/png": "[encoded data removed]",
      "text/plain": [
       "<Figure size 432x288 with 1 Axes>"
      ]
     },
     "metadata": {
      "needs_background": "light"
     },
     "output_type": "display_data"
    }
   ],
   "source": [
    "df_missing_info.calculatedfinishedsquarefeet.hist()"
   ]
  },
  {
   "cell_type": "code",
   "execution_count": 21,
   "id": "2c6bb05c",
   "metadata": {},
   "outputs": [
    {
     "data": {
      "text/plain": [
       "<AxesSubplot:>"
      ]
     },
     "execution_count": 21,
     "metadata": {},
     "output_type": "execute_result"
    },
    {
     "data": {
      "image/png": "[encoded data removed]",
      "text/plain": [
       "<Figure size 432x288 with 1 Axes>"
      ]
     },
     "metadata": {
      "needs_background": "light"
     },
     "output_type": "display_data"
    }
   ],
   "source": [
    "df_missing_info.taxvaluedollarcnt.hist()"
   ]
  },
  {
   "cell_type": "code",
   "execution_count": 22,
   "id": "ad465e09",
   "metadata": {},
   "outputs": [
    {
     "data": {
      "text/plain": [
       "(5346, 8)"
      ]
     },
     "execution_count": 22,
     "metadata": {},
     "output_type": "execute_result"
    }
   ],
   "source": [
    "df_missing_info.shape"
   ]
  },
  {
   "cell_type": "code",
   "execution_count": 23,
   "id": "920d4590",
   "metadata": {},
   "outputs": [
    {
     "data": {
      "text/plain": [
       "(2134889, 8)"
      ]
     },
     "execution_count": 23,
     "metadata": {},
     "output_type": "execute_result"
    }
   ],
   "source": [
    "# most homes in df_missing_info are missing a market value, as well as other key information such as bd/br/sq ft\n",
    "# I feel comfortable dropping them from the final df\n",
    "df = df[(df.bedroomcnt != 0) & (df.bathroomcnt != 0) & (df.calculatedfinishedsquarefeet >= 69)]\n",
    "df.shape"
   ]
  },
  {
   "cell_type": "code",
   "execution_count": 24,
   "id": "4e0dc803",
   "metadata": {},
   "outputs": [
    {
     "data": {
      "text/html": [
       "<div><div id=9f384921-fe92-433c-88ac-fd64b8009e8d style=\"display:none; background-color:#9D6CFF; color:white; width:200px; height:30px; padding-left:5px; border-radius:4px; flex-direction:row; justify-content:space-around; align-items:center;\" onmouseover=\"this.style.backgroundColor='#BA9BF8'\" onmouseout=\"this.style.backgroundColor='#9D6CFF'\" onclick=\"window.commands?.execute('create-mitosheet-from-dataframe-output');\">See Full Dataframe in Mito</div> <script> if (window.commands?.hasCommand('create-mitosheet-from-dataframe-output')) document.getElementById('9f384921-fe92-433c-88ac-fd64b8009e8d').style.display = 'flex' </script> <table border=\"1\" class=\"dataframe\">\n",
       "  <thead>\n",
       "    <tr style=\"text-align: right;\">\n",
       "      <th></th>\n",
       "      <th>parcelid</th>\n",
       "      <th>bedroomcnt</th>\n",
       "      <th>bathroomcnt</th>\n",
       "      <th>calculatedfinishedsquarefeet</th>\n",
       "      <th>taxvaluedollarcnt</th>\n",
       "      <th>yearbuilt</th>\n",
       "      <th>taxamount</th>\n",
       "      <th>fips</th>\n",
       "    </tr>\n",
       "  </thead>\n",
       "  <tbody>\n",
       "    <tr>\n",
       "      <th>4</th>\n",
       "      <td>11324547</td>\n",
       "      <td>4</td>\n",
       "      <td>2.0</td>\n",
       "      <td>3633</td>\n",
       "      <td>296425.0</td>\n",
       "      <td>2005</td>\n",
       "      <td>6941.39</td>\n",
       "      <td>6037</td>\n",
       "    </tr>\n",
       "    <tr>\n",
       "      <th>6</th>\n",
       "      <td>11544747</td>\n",
       "      <td>3</td>\n",
       "      <td>4.0</td>\n",
       "      <td>1620</td>\n",
       "      <td>847770.0</td>\n",
       "      <td>2011</td>\n",
       "      <td>10244.94</td>\n",
       "      <td>6037</td>\n",
       "    </tr>\n",
       "    <tr>\n",
       "      <th>7</th>\n",
       "      <td>11585547</td>\n",
       "      <td>3</td>\n",
       "      <td>2.0</td>\n",
       "      <td>2077</td>\n",
       "      <td>646760.0</td>\n",
       "      <td>1926</td>\n",
       "      <td>7924.68</td>\n",
       "      <td>6037</td>\n",
       "    </tr>\n",
       "    <tr>\n",
       "      <th>18</th>\n",
       "      <td>12716947</td>\n",
       "      <td>3</td>\n",
       "      <td>1.0</td>\n",
       "      <td>1244</td>\n",
       "      <td>169471.0</td>\n",
       "      <td>1950</td>\n",
       "      <td>2532.88</td>\n",
       "      <td>6037</td>\n",
       "    </tr>\n",
       "    <tr>\n",
       "      <th>19</th>\n",
       "      <td>12757147</td>\n",
       "      <td>3</td>\n",
       "      <td>2.0</td>\n",
       "      <td>1300</td>\n",
       "      <td>233266.0</td>\n",
       "      <td>1950</td>\n",
       "      <td>3110.99</td>\n",
       "      <td>6037</td>\n",
       "    </tr>\n",
       "  </tbody>\n",
       "</table></div>"
      ],
      "text/plain": [
       "    parcelid  bedroomcnt  bathroomcnt  calculatedfinishedsquarefeet  \\\n",
       "4   11324547           4          2.0                          3633   \n",
       "6   11544747           3          4.0                          1620   \n",
       "7   11585547           3          2.0                          2077   \n",
       "18  12716947           3          1.0                          1244   \n",
       "19  12757147           3          2.0                          1300   \n",
       "\n",
       "    taxvaluedollarcnt  yearbuilt  taxamount  fips  \n",
       "4            296425.0       2005    6941.39  6037  \n",
       "6            847770.0       2011   10244.94  6037  \n",
       "7            646760.0       1926    7924.68  6037  \n",
       "18           169471.0       1950    2532.88  6037  \n",
       "19           233266.0       1950    3110.99  6037  "
      ]
     },
     "execution_count": 24,
     "metadata": {},
     "output_type": "execute_result"
    }
   ],
   "source": [
    "df.head()"
   ]
  },
  {
   "cell_type": "markdown",
   "id": "4a289f04",
   "metadata": {},
   "source": [
    "## Takeways from Wrangling (acquire and prep) :\n",
    "- We have dropped all null rows\n",
    "- no duplicates in dataset\n",
    "- dropped rows with 0 val for bd/br, and less than 70 for sqft\n",
    "- we now have 2.134 mn rows remaining\n",
    "    - removed 22,780 null rows\n",
    "    - dropped 5,346 rows with '0' amount values in key fields "
   ]
  },
  {
   "cell_type": "markdown",
   "id": "59f88b87",
   "metadata": {},
   "source": [
    "## Step 2. Look at distributions in the dataset"
   ]
  },
  {
   "cell_type": "code",
   "execution_count": 28,
   "id": "eee3d1aa",
   "metadata": {},
   "outputs": [
    {
     "data": {
      "text/plain": [
       "Index(['parcelid', 'bedroomcnt', 'bathroomcnt', 'calculatedfinishedsquarefeet',\n",
       "       'taxvaluedollarcnt', 'yearbuilt', 'taxamount', 'fips'],\n",
       "      dtype='object')"
      ]
     },
     "execution_count": 28,
     "metadata": {},
     "output_type": "execute_result"
    }
   ],
   "source": [
    "df.columns"
   ]
  },
  {
   "cell_type": "code",
   "execution_count": 29,
   "id": "9e0b5dc2",
   "metadata": {},
   "outputs": [
    {
     "name": "stdout",
     "output_type": "stream",
     "text": [
      "<class 'pandas.core.frame.DataFrame'>\n",
      "Int64Index: 2134889 entries, 4 to 2152863\n",
      "Data columns (total 8 columns):\n",
      " #   Column                        Dtype  \n",
      "---  ------                        -----  \n",
      " 0   parcelid                      int64  \n",
      " 1   bedroomcnt                    int64  \n",
      " 2   bathroomcnt                   float64\n",
      " 3   calculatedfinishedsquarefeet  int64  \n",
      " 4   taxvaluedollarcnt             float64\n",
      " 5   yearbuilt                     int64  \n",
      " 6   taxamount                     float64\n",
      " 7   fips                          int64  \n",
      "dtypes: float64(3), int64(5)\n",
      "memory usage: 146.6 MB\n"
     ]
    }
   ],
   "source": [
    "df.info()"
   ]
  },
  {
   "cell_type": "code",
   "execution_count": 40,
   "id": "ff70fbc3",
   "metadata": {},
   "outputs": [
    {
     "data": {
      "text/plain": [
       "<seaborn.axisgrid.FacetGrid at 0x7fb8fc811f10>"
      ]
     },
     "execution_count": 40,
     "metadata": {},
     "output_type": "execute_result"
    },
    {
     "data": {
      "text/plain": [
       "<Figure size 576x288 with 0 Axes>"
      ]
     },
     "metadata": {},
     "output_type": "display_data"
    },
    {
     "data": {
      "image/png": "[encoded data removed]",
      "text/plain": [
       "<Figure size 360x360 with 1 Axes>"
      ]
     },
     "metadata": {
      "needs_background": "light"
     },
     "output_type": "display_data"
    }
   ],
   "source": [
    "plt.figure(figsize=(8,4))\n",
    "sns.catplot(data=df[['bedroomcnt']])"
   ]
  },
  {
   "cell_type": "code",
   "execution_count": 41,
   "id": "3fae0fa2",
   "metadata": {},
   "outputs": [
    {
     "data": {
      "text/plain": [
       "<seaborn.axisgrid.FacetGrid at 0x7fb90d1e0820>"
      ]
     },
     "execution_count": 41,
     "metadata": {},
     "output_type": "execute_result"
    },
    {
     "data": {
      "text/plain": [
       "<Figure size 576x288 with 0 Axes>"
      ]
     },
     "metadata": {},
     "output_type": "display_data"
    },
    {
     "data": {
      "image/png": "[encoded data removed]",
      "text/plain": [
       "<Figure size 483.125x360 with 1 Axes>"
      ]
     },
     "metadata": {
      "needs_background": "light"
     },
     "output_type": "display_data"
    }
   ],
   "source": [
    "plt.figure(figsize=(8,4))\n",
    "sns.displot(data=df[['taxvaluedollarcnt']])"
   ]
  },
  {
   "cell_type": "code",
   "execution_count": 42,
   "id": "0d279b71",
   "metadata": {},
   "outputs": [
    {
     "name": "stdout",
     "output_type": "stream",
     "text": [
      "parcelid\n",
      "<bound method IndexOpsMixin.value_counts of 4          11324547\n",
      "6          11544747\n",
      "7          11585547\n",
      "18         12716947\n",
      "19         12757147\n",
      "             ...   \n",
      "2152857    13027311\n",
      "2152859    14356230\n",
      "2152860    14157725\n",
      "2152862    14367624\n",
      "2152863    12385768\n",
      "Name: parcelid, Length: 2134889, dtype: int64>\n",
      "_________________\n",
      "bedroomcnt\n",
      "<bound method IndexOpsMixin.value_counts of 4          4\n",
      "6          3\n",
      "7          3\n",
      "18         3\n",
      "19         3\n",
      "          ..\n",
      "2152857    4\n",
      "2152859    4\n",
      "2152860    4\n",
      "2152862    3\n",
      "2152863    4\n",
      "Name: bedroomcnt, Length: 2134889, dtype: int64>\n",
      "_________________\n",
      "bathroomcnt\n",
      "<bound method IndexOpsMixin.value_counts of 4          2.0\n",
      "6          4.0\n",
      "7          2.0\n",
      "18         1.0\n",
      "19         2.0\n",
      "          ... \n",
      "2152857    4.0\n",
      "2152859    3.0\n",
      "2152860    4.5\n",
      "2152862    2.5\n",
      "2152863    4.0\n",
      "Name: bathroomcnt, Length: 2134889, dtype: float64>\n",
      "_________________\n",
      "calculatedfinishedsquarefeet\n",
      "<bound method IndexOpsMixin.value_counts of 4          3633\n",
      "6          1620\n",
      "7          2077\n",
      "18         1244\n",
      "19         1300\n",
      "           ... \n",
      "2152857    4375\n",
      "2152859    2262\n",
      "2152860    3127\n",
      "2152862    1974\n",
      "2152863    2110\n",
      "Name: calculatedfinishedsquarefeet, Length: 2134889, dtype: int64>\n",
      "_________________\n",
      "taxvaluedollarcnt\n",
      "<bound method IndexOpsMixin.value_counts of 4          296425.0\n",
      "6          847770.0\n",
      "7          646760.0\n",
      "18         169471.0\n",
      "19         233266.0\n",
      "             ...   \n",
      "2152857    422400.0\n",
      "2152859    960756.0\n",
      "2152860    536061.0\n",
      "2152862    424353.0\n",
      "2152863    554009.0\n",
      "Name: taxvaluedollarcnt, Length: 2134889, dtype: float64>\n",
      "_________________\n",
      "yearbuilt\n",
      "<bound method IndexOpsMixin.value_counts of 4          2005\n",
      "6          2011\n",
      "7          1926\n",
      "18         1950\n",
      "19         1950\n",
      "           ... \n",
      "2152857    2015\n",
      "2152859    2015\n",
      "2152860    2014\n",
      "2152862    2015\n",
      "2152863    2014\n",
      "Name: yearbuilt, Length: 2134889, dtype: int64>\n",
      "_________________\n",
      "taxamount\n",
      "<bound method IndexOpsMixin.value_counts of 4           6941.39\n",
      "6          10244.94\n",
      "7           7924.68\n",
      "18          2532.88\n",
      "19          3110.99\n",
      "             ...   \n",
      "2152857    13877.56\n",
      "2152859    13494.52\n",
      "2152860     6244.16\n",
      "2152862     5302.70\n",
      "2152863     6761.20\n",
      "Name: taxamount, Length: 2134889, dtype: float64>\n",
      "_________________\n",
      "fips\n",
      "<bound method IndexOpsMixin.value_counts of 4          6037\n",
      "6          6037\n",
      "7          6037\n",
      "18         6037\n",
      "19         6037\n",
      "           ... \n",
      "2152857    6037\n",
      "2152859    6059\n",
      "2152860    6059\n",
      "2152862    6059\n",
      "2152863    6037\n",
      "Name: fips, Length: 2134889, dtype: int64>\n",
      "_________________\n"
     ]
    }
   ],
   "source": [
    "for column in df.columns:\n",
    "    print(column)\n",
    "    print(df[column].value_counts)\n",
    "    print(\"_________________\")"
   ]
  },
  {
   "cell_type": "code",
   "execution_count": 47,
   "id": "b2ad1ab9",
   "metadata": {},
   "outputs": [
    {
     "data": {
      "image/png": "[encoded data removed]",
      "text/plain": [
       "<Figure size 1440x216 with 8 Axes>"
      ]
     },
     "metadata": {
      "needs_background": "light"
     },
     "output_type": "display_data"
    }
   ],
   "source": [
    "plt.figure(figsize=(20,3))\n",
    "cols = df.columns\n",
    "for i, col in enumerate(cols):\n",
    "    plot_number = i+1\n",
    "    plt.subplot(1, 8, plot_number)\n",
    "    plt.title(col)\n",
    "    df[col].hist(bins=5)"
   ]
  },
  {
   "cell_type": "code",
   "execution_count": null,
   "id": "e2c31407",
   "metadata": {},
   "outputs": [],
   "source": [
    "# df.shape[0]"
   ]
  }
 ],
 "metadata": {
  "kernelspec": {
   "display_name": "Python 3 (ipykernel)",
   "language": "python",
   "name": "python3"
  },
  "language_info": {
   "codemirror_mode": {
    "name": "ipython",
    "version": 3
   },
   "file_extension": ".py",
   "mimetype": "text/x-python",
   "name": "python",
   "nbconvert_exporter": "python",
   "pygments_lexer": "ipython3",
   "version": "3.9.7"
  }
 },
 "nbformat": 4,
 "nbformat_minor": 5
}
