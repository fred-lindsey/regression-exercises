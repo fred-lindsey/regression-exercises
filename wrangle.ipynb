{
 "cells": [
  {
   "cell_type": "markdown",
   "id": "cce5bad3",
   "metadata": {},
   "source": [
    "## Step 1. Wrangle the Zillow data set"
   ]
  },
  {
   "cell_type": "code",
   "execution_count": 1,
   "id": "6e0fe66e",
   "metadata": {},
   "outputs": [],
   "source": [
    "import warnings\n",
    "warnings.filterwarnings(\"ignore\")\n",
    "\n",
    "import pandas as pd\n",
    "import matplotlib.pyplot as plt\n",
    "import seaborn as sns\n",
    "import numpy as np\n",
    "import env\n",
    "\n",
    "\n",
    "import wrangle"
   ]
  },
  {
   "cell_type": "code",
   "execution_count": 2,
   "id": "97a33b38",
   "metadata": {},
   "outputs": [
    {
     "data": {
      "text/html": [
       "<div><div id=1c135d66-8016-497c-9ce3-e55db7fa7282 style=\"display:none; background-color:#9D6CFF; color:white; width:200px; height:30px; padding-left:5px; border-radius:4px; flex-direction:row; justify-content:space-around; align-items:center;\" onmouseover=\"this.style.backgroundColor='#BA9BF8'\" onmouseout=\"this.style.backgroundColor='#9D6CFF'\" onclick=\"window.commands?.execute('create-mitosheet-from-dataframe-output');\">See Full Dataframe in Mito</div> <script> if (window.commands?.hasCommand('create-mitosheet-from-dataframe-output')) document.getElementById('1c135d66-8016-497c-9ce3-e55db7fa7282').style.display = 'flex' </script> <table border=\"1\" class=\"dataframe\">\n",
       "  <thead>\n",
       "    <tr style=\"text-align: right;\">\n",
       "      <th></th>\n",
       "      <th>parcelid</th>\n",
       "      <th>bedroomcnt</th>\n",
       "      <th>bathroomcnt</th>\n",
       "      <th>calculatedfinishedsquarefeet</th>\n",
       "      <th>taxvaluedollarcnt</th>\n",
       "      <th>yearbuilt</th>\n",
       "      <th>taxamount</th>\n",
       "      <th>fips</th>\n",
       "    </tr>\n",
       "  </thead>\n",
       "  <tbody>\n",
       "    <tr>\n",
       "      <th>0</th>\n",
       "      <td>10759547</td>\n",
       "      <td>0.0</td>\n",
       "      <td>0.0</td>\n",
       "      <td>NaN</td>\n",
       "      <td>27516.0</td>\n",
       "      <td>NaN</td>\n",
       "      <td>NaN</td>\n",
       "      <td>6037.0</td>\n",
       "    </tr>\n",
       "    <tr>\n",
       "      <th>1</th>\n",
       "      <td>11193347</td>\n",
       "      <td>0.0</td>\n",
       "      <td>0.0</td>\n",
       "      <td>NaN</td>\n",
       "      <td>10.0</td>\n",
       "      <td>NaN</td>\n",
       "      <td>NaN</td>\n",
       "      <td>6037.0</td>\n",
       "    </tr>\n",
       "    <tr>\n",
       "      <th>2</th>\n",
       "      <td>11215747</td>\n",
       "      <td>0.0</td>\n",
       "      <td>0.0</td>\n",
       "      <td>NaN</td>\n",
       "      <td>10.0</td>\n",
       "      <td>NaN</td>\n",
       "      <td>NaN</td>\n",
       "      <td>6037.0</td>\n",
       "    </tr>\n",
       "    <tr>\n",
       "      <th>3</th>\n",
       "      <td>11229347</td>\n",
       "      <td>0.0</td>\n",
       "      <td>0.0</td>\n",
       "      <td>NaN</td>\n",
       "      <td>2108.0</td>\n",
       "      <td>NaN</td>\n",
       "      <td>174.21</td>\n",
       "      <td>6037.0</td>\n",
       "    </tr>\n",
       "    <tr>\n",
       "      <th>4</th>\n",
       "      <td>11324547</td>\n",
       "      <td>4.0</td>\n",
       "      <td>2.0</td>\n",
       "      <td>3633.0</td>\n",
       "      <td>296425.0</td>\n",
       "      <td>2005.0</td>\n",
       "      <td>6941.39</td>\n",
       "      <td>6037.0</td>\n",
       "    </tr>\n",
       "  </tbody>\n",
       "</table></div>"
      ],
      "text/plain": [
       "   parcelid  bedroomcnt  bathroomcnt  calculatedfinishedsquarefeet  \\\n",
       "0  10759547         0.0          0.0                           NaN   \n",
       "1  11193347         0.0          0.0                           NaN   \n",
       "2  11215747         0.0          0.0                           NaN   \n",
       "3  11229347         0.0          0.0                           NaN   \n",
       "4  11324547         4.0          2.0                        3633.0   \n",
       "\n",
       "   taxvaluedollarcnt  yearbuilt  taxamount    fips  \n",
       "0            27516.0        NaN        NaN  6037.0  \n",
       "1               10.0        NaN        NaN  6037.0  \n",
       "2               10.0        NaN        NaN  6037.0  \n",
       "3             2108.0        NaN     174.21  6037.0  \n",
       "4           296425.0     2005.0    6941.39  6037.0  "
      ]
     },
     "execution_count": 2,
     "metadata": {},
     "output_type": "execute_result"
    }
   ],
   "source": [
    "df = wrangle.get_zillow_data()\n",
    "df.head()"
   ]
  },
  {
   "cell_type": "code",
   "execution_count": 3,
   "id": "d7f7ae2e",
   "metadata": {},
   "outputs": [
    {
     "data": {
      "text/plain": [
       "17222912"
      ]
     },
     "execution_count": 3,
     "metadata": {},
     "output_type": "execute_result"
    }
   ],
   "source": [
    "df.size"
   ]
  },
  {
   "cell_type": "code",
   "execution_count": 4,
   "id": "0eb9318a",
   "metadata": {},
   "outputs": [
    {
     "data": {
      "text/plain": [
       "(2152864, 8)"
      ]
     },
     "execution_count": 4,
     "metadata": {},
     "output_type": "execute_result"
    }
   ],
   "source": [
    "df.shape"
   ]
  },
  {
   "cell_type": "markdown",
   "id": "b0e76558",
   "metadata": {},
   "source": [
    "### 2.153 mn rows of data"
   ]
  },
  {
   "cell_type": "code",
   "execution_count": 5,
   "id": "caa816a1",
   "metadata": {},
   "outputs": [
    {
     "data": {
      "text/html": [
       "<div><div id=d4b4e1b8-8a57-4729-a148-5198061700ef style=\"display:none; background-color:#9D6CFF; color:white; width:200px; height:30px; padding-left:5px; border-radius:4px; flex-direction:row; justify-content:space-around; align-items:center;\" onmouseover=\"this.style.backgroundColor='#BA9BF8'\" onmouseout=\"this.style.backgroundColor='#9D6CFF'\" onclick=\"window.commands?.execute('create-mitosheet-from-dataframe-output');\">See Full Dataframe in Mito</div> <script> if (window.commands?.hasCommand('create-mitosheet-from-dataframe-output')) document.getElementById('d4b4e1b8-8a57-4729-a148-5198061700ef').style.display = 'flex' </script> <table border=\"1\" class=\"dataframe\">\n",
       "  <thead>\n",
       "    <tr style=\"text-align: right;\">\n",
       "      <th></th>\n",
       "      <th>count</th>\n",
       "      <th>mean</th>\n",
       "      <th>std</th>\n",
       "      <th>min</th>\n",
       "      <th>25%</th>\n",
       "      <th>50%</th>\n",
       "      <th>75%</th>\n",
       "      <th>max</th>\n",
       "    </tr>\n",
       "  </thead>\n",
       "  <tbody>\n",
       "    <tr>\n",
       "      <th>parcelid</th>\n",
       "      <td>2152864.0</td>\n",
       "      <td>1.309657e+07</td>\n",
       "      <td>5.171556e+06</td>\n",
       "      <td>10711725.00</td>\n",
       "      <td>1.165907e+07</td>\n",
       "      <td>1.259851e+07</td>\n",
       "      <td>1.405609e+07</td>\n",
       "      <td>1.696019e+08</td>\n",
       "    </tr>\n",
       "    <tr>\n",
       "      <th>bedroomcnt</th>\n",
       "      <td>2152853.0</td>\n",
       "      <td>3.287195e+00</td>\n",
       "      <td>9.547568e-01</td>\n",
       "      <td>0.00</td>\n",
       "      <td>3.000000e+00</td>\n",
       "      <td>3.000000e+00</td>\n",
       "      <td>4.000000e+00</td>\n",
       "      <td>2.500000e+01</td>\n",
       "    </tr>\n",
       "    <tr>\n",
       "      <th>bathroomcnt</th>\n",
       "      <td>2152853.0</td>\n",
       "      <td>2.230687e+00</td>\n",
       "      <td>9.992805e-01</td>\n",
       "      <td>0.00</td>\n",
       "      <td>2.000000e+00</td>\n",
       "      <td>2.000000e+00</td>\n",
       "      <td>3.000000e+00</td>\n",
       "      <td>3.200000e+01</td>\n",
       "    </tr>\n",
       "    <tr>\n",
       "      <th>calculatedfinishedsquarefeet</th>\n",
       "      <td>2144379.0</td>\n",
       "      <td>1.862855e+03</td>\n",
       "      <td>1.222125e+03</td>\n",
       "      <td>1.00</td>\n",
       "      <td>1.257000e+03</td>\n",
       "      <td>1.623000e+03</td>\n",
       "      <td>2.208000e+03</td>\n",
       "      <td>9.525760e+05</td>\n",
       "    </tr>\n",
       "    <tr>\n",
       "      <th>taxvaluedollarcnt</th>\n",
       "      <td>2152371.0</td>\n",
       "      <td>4.618961e+05</td>\n",
       "      <td>6.996759e+05</td>\n",
       "      <td>1.00</td>\n",
       "      <td>1.881700e+05</td>\n",
       "      <td>3.276710e+05</td>\n",
       "      <td>5.345270e+05</td>\n",
       "      <td>9.842891e+07</td>\n",
       "    </tr>\n",
       "    <tr>\n",
       "      <th>yearbuilt</th>\n",
       "      <td>2143526.0</td>\n",
       "      <td>1.960950e+03</td>\n",
       "      <td>2.216220e+01</td>\n",
       "      <td>1801.00</td>\n",
       "      <td>1.949000e+03</td>\n",
       "      <td>1.958000e+03</td>\n",
       "      <td>1.976000e+03</td>\n",
       "      <td>2.016000e+03</td>\n",
       "    </tr>\n",
       "    <tr>\n",
       "      <th>taxamount</th>\n",
       "      <td>2148422.0</td>\n",
       "      <td>5.634864e+03</td>\n",
       "      <td>8.178909e+03</td>\n",
       "      <td>1.85</td>\n",
       "      <td>2.534972e+03</td>\n",
       "      <td>4.108945e+03</td>\n",
       "      <td>6.414318e+03</td>\n",
       "      <td>1.337756e+06</td>\n",
       "    </tr>\n",
       "    <tr>\n",
       "      <th>fips</th>\n",
       "      <td>2152864.0</td>\n",
       "      <td>6.048377e+03</td>\n",
       "      <td>2.043329e+01</td>\n",
       "      <td>6037.00</td>\n",
       "      <td>6.037000e+03</td>\n",
       "      <td>6.037000e+03</td>\n",
       "      <td>6.059000e+03</td>\n",
       "      <td>6.111000e+03</td>\n",
       "    </tr>\n",
       "  </tbody>\n",
       "</table></div>"
      ],
      "text/plain": [
       "                                  count          mean           std  \\\n",
       "parcelid                      2152864.0  1.309657e+07  5.171556e+06   \n",
       "bedroomcnt                    2152853.0  3.287195e+00  9.547568e-01   \n",
       "bathroomcnt                   2152853.0  2.230687e+00  9.992805e-01   \n",
       "calculatedfinishedsquarefeet  2144379.0  1.862855e+03  1.222125e+03   \n",
       "taxvaluedollarcnt             2152371.0  4.618961e+05  6.996759e+05   \n",
       "yearbuilt                     2143526.0  1.960950e+03  2.216220e+01   \n",
       "taxamount                     2148422.0  5.634864e+03  8.178909e+03   \n",
       "fips                          2152864.0  6.048377e+03  2.043329e+01   \n",
       "\n",
       "                                      min           25%           50%  \\\n",
       "parcelid                      10711725.00  1.165907e+07  1.259851e+07   \n",
       "bedroomcnt                           0.00  3.000000e+00  3.000000e+00   \n",
       "bathroomcnt                          0.00  2.000000e+00  2.000000e+00   \n",
       "calculatedfinishedsquarefeet         1.00  1.257000e+03  1.623000e+03   \n",
       "taxvaluedollarcnt                    1.00  1.881700e+05  3.276710e+05   \n",
       "yearbuilt                         1801.00  1.949000e+03  1.958000e+03   \n",
       "taxamount                            1.85  2.534972e+03  4.108945e+03   \n",
       "fips                              6037.00  6.037000e+03  6.037000e+03   \n",
       "\n",
       "                                       75%           max  \n",
       "parcelid                      1.405609e+07  1.696019e+08  \n",
       "bedroomcnt                    4.000000e+00  2.500000e+01  \n",
       "bathroomcnt                   3.000000e+00  3.200000e+01  \n",
       "calculatedfinishedsquarefeet  2.208000e+03  9.525760e+05  \n",
       "taxvaluedollarcnt             5.345270e+05  9.842891e+07  \n",
       "yearbuilt                     1.976000e+03  2.016000e+03  \n",
       "taxamount                     6.414318e+03  1.337756e+06  \n",
       "fips                          6.059000e+03  6.111000e+03  "
      ]
     },
     "execution_count": 5,
     "metadata": {},
     "output_type": "execute_result"
    }
   ],
   "source": [
    "df.describe().T"
   ]
  },
  {
   "cell_type": "code",
   "execution_count": 6,
   "id": "19fb5956",
   "metadata": {},
   "outputs": [
    {
     "name": "stdout",
     "output_type": "stream",
     "text": [
      "<class 'pandas.core.frame.DataFrame'>\n",
      "RangeIndex: 2152864 entries, 0 to 2152863\n",
      "Data columns (total 8 columns):\n",
      " #   Column                        Dtype  \n",
      "---  ------                        -----  \n",
      " 0   parcelid                      int64  \n",
      " 1   bedroomcnt                    float64\n",
      " 2   bathroomcnt                   float64\n",
      " 3   calculatedfinishedsquarefeet  float64\n",
      " 4   taxvaluedollarcnt             float64\n",
      " 5   yearbuilt                     float64\n",
      " 6   taxamount                     float64\n",
      " 7   fips                          float64\n",
      "dtypes: float64(7), int64(1)\n",
      "memory usage: 131.4 MB\n"
     ]
    }
   ],
   "source": [
    "df.info()"
   ]
  },
  {
   "cell_type": "markdown",
   "id": "04b61ab1",
   "metadata": {},
   "source": [
    "### I need to convert bedroom, bathroom, sq ft and year built into int type later "
   ]
  },
  {
   "cell_type": "code",
   "execution_count": 7,
   "id": "3b3826c6",
   "metadata": {},
   "outputs": [
    {
     "name": "stdout",
     "output_type": "stream",
     "text": [
      "<class 'pandas.core.frame.DataFrame'>\n",
      "RangeIndex: 2152864 entries, 0 to 2152863\n",
      "Data columns (total 8 columns):\n",
      " #   Column                        Non-Null Count    Dtype  \n",
      "---  ------                        --------------    -----  \n",
      " 0   parcelid                      2152864 non-null  int64  \n",
      " 1   bedroomcnt                    2152853 non-null  float64\n",
      " 2   bathroomcnt                   2152853 non-null  float64\n",
      " 3   calculatedfinishedsquarefeet  2144379 non-null  float64\n",
      " 4   taxvaluedollarcnt             2152371 non-null  float64\n",
      " 5   yearbuilt                     2143526 non-null  float64\n",
      " 6   taxamount                     2148422 non-null  float64\n",
      " 7   fips                          2152864 non-null  float64\n",
      "dtypes: float64(7), int64(1)\n",
      "memory usage: 131.4 MB\n"
     ]
    }
   ],
   "source": [
    "df.info(show_counts = True) #shows non-null counts"
   ]
  },
  {
   "cell_type": "markdown",
   "id": "25ac00ff",
   "metadata": {},
   "source": [
    "## How much of the data is null? About 1.1%, across all categories. I'm comfortable dropping that in the interest of time, considering the size of the remaining data."
   ]
  },
  {
   "cell_type": "code",
   "execution_count": 8,
   "id": "6c2f4613",
   "metadata": {},
   "outputs": [
    {
     "data": {
      "text/plain": [
       "parcelid                           0\n",
       "bedroomcnt                        11\n",
       "bathroomcnt                       11\n",
       "calculatedfinishedsquarefeet    8485\n",
       "taxvaluedollarcnt                493\n",
       "yearbuilt                       9338\n",
       "taxamount                       4442\n",
       "fips                               0\n",
       "dtype: int64"
      ]
     },
     "execution_count": 8,
     "metadata": {},
     "output_type": "execute_result"
    }
   ],
   "source": [
    "null_sum = pd.Series(df.isnull().sum()) #shows null counts\n",
    "null_sum"
   ]
  },
  {
   "cell_type": "code",
   "execution_count": 9,
   "id": "2b51bf37",
   "metadata": {},
   "outputs": [
    {
     "data": {
      "text/plain": [
       "22780"
      ]
     },
     "execution_count": 9,
     "metadata": {},
     "output_type": "execute_result"
    }
   ],
   "source": [
    "null_sum.sum()"
   ]
  },
  {
   "cell_type": "code",
   "execution_count": 10,
   "id": "77d5a310",
   "metadata": {},
   "outputs": [
    {
     "data": {
      "text/plain": [
       "0.010581253623080697"
      ]
     },
     "execution_count": 10,
     "metadata": {},
     "output_type": "execute_result"
    }
   ],
   "source": [
    "(null_sum.sum()/len(df))"
   ]
  },
  {
   "cell_type": "code",
   "execution_count": 11,
   "id": "05503452",
   "metadata": {},
   "outputs": [
    {
     "data": {
      "text/html": [
       "<div><div id=be3729b9-e400-44d1-8d2e-1b8766c4e813 style=\"display:none; background-color:#9D6CFF; color:white; width:200px; height:30px; padding-left:5px; border-radius:4px; flex-direction:row; justify-content:space-around; align-items:center;\" onmouseover=\"this.style.backgroundColor='#BA9BF8'\" onmouseout=\"this.style.backgroundColor='#9D6CFF'\" onclick=\"window.commands?.execute('create-mitosheet-from-dataframe-output');\">See Full Dataframe in Mito</div> <script> if (window.commands?.hasCommand('create-mitosheet-from-dataframe-output')) document.getElementById('be3729b9-e400-44d1-8d2e-1b8766c4e813').style.display = 'flex' </script> <table border=\"1\" class=\"dataframe\">\n",
       "  <thead>\n",
       "    <tr style=\"text-align: right;\">\n",
       "      <th></th>\n",
       "      <th>parcelid</th>\n",
       "      <th>bedroomcnt</th>\n",
       "      <th>bathroomcnt</th>\n",
       "      <th>calculatedfinishedsquarefeet</th>\n",
       "      <th>taxvaluedollarcnt</th>\n",
       "      <th>yearbuilt</th>\n",
       "      <th>taxamount</th>\n",
       "      <th>fips</th>\n",
       "    </tr>\n",
       "  </thead>\n",
       "  <tbody>\n",
       "    <tr>\n",
       "      <th>0</th>\n",
       "      <td>10759547</td>\n",
       "      <td>0.0</td>\n",
       "      <td>0.0</td>\n",
       "      <td>NaN</td>\n",
       "      <td>27516.0</td>\n",
       "      <td>NaN</td>\n",
       "      <td>NaN</td>\n",
       "      <td>6037.0</td>\n",
       "    </tr>\n",
       "    <tr>\n",
       "      <th>1</th>\n",
       "      <td>11193347</td>\n",
       "      <td>0.0</td>\n",
       "      <td>0.0</td>\n",
       "      <td>NaN</td>\n",
       "      <td>10.0</td>\n",
       "      <td>NaN</td>\n",
       "      <td>NaN</td>\n",
       "      <td>6037.0</td>\n",
       "    </tr>\n",
       "    <tr>\n",
       "      <th>2</th>\n",
       "      <td>11215747</td>\n",
       "      <td>0.0</td>\n",
       "      <td>0.0</td>\n",
       "      <td>NaN</td>\n",
       "      <td>10.0</td>\n",
       "      <td>NaN</td>\n",
       "      <td>NaN</td>\n",
       "      <td>6037.0</td>\n",
       "    </tr>\n",
       "    <tr>\n",
       "      <th>3</th>\n",
       "      <td>11229347</td>\n",
       "      <td>0.0</td>\n",
       "      <td>0.0</td>\n",
       "      <td>NaN</td>\n",
       "      <td>2108.0</td>\n",
       "      <td>NaN</td>\n",
       "      <td>174.21</td>\n",
       "      <td>6037.0</td>\n",
       "    </tr>\n",
       "    <tr>\n",
       "      <th>4</th>\n",
       "      <td>11324547</td>\n",
       "      <td>4.0</td>\n",
       "      <td>2.0</td>\n",
       "      <td>3633.0</td>\n",
       "      <td>296425.0</td>\n",
       "      <td>2005.0</td>\n",
       "      <td>6941.39</td>\n",
       "      <td>6037.0</td>\n",
       "    </tr>\n",
       "  </tbody>\n",
       "</table></div>"
      ],
      "text/plain": [
       "   parcelid  bedroomcnt  bathroomcnt  calculatedfinishedsquarefeet  \\\n",
       "0  10759547         0.0          0.0                           NaN   \n",
       "1  11193347         0.0          0.0                           NaN   \n",
       "2  11215747         0.0          0.0                           NaN   \n",
       "3  11229347         0.0          0.0                           NaN   \n",
       "4  11324547         4.0          2.0                        3633.0   \n",
       "\n",
       "   taxvaluedollarcnt  yearbuilt  taxamount    fips  \n",
       "0            27516.0        NaN        NaN  6037.0  \n",
       "1               10.0        NaN        NaN  6037.0  \n",
       "2               10.0        NaN        NaN  6037.0  \n",
       "3             2108.0        NaN     174.21  6037.0  \n",
       "4           296425.0     2005.0    6941.39  6037.0  "
      ]
     },
     "execution_count": 11,
     "metadata": {},
     "output_type": "execute_result"
    }
   ],
   "source": [
    "# remove empty entries stored as whitespace, convert to nulls\n",
    "df = df.replace(r'^\\s*$', np.nan, regex=True)\n",
    "df.head()"
   ]
  },
  {
   "cell_type": "code",
   "execution_count": 12,
   "id": "8487ec29",
   "metadata": {},
   "outputs": [
    {
     "data": {
      "text/plain": [
       "parcelid                           0\n",
       "bedroomcnt                        11\n",
       "bathroomcnt                       11\n",
       "calculatedfinishedsquarefeet    8485\n",
       "taxvaluedollarcnt                493\n",
       "yearbuilt                       9338\n",
       "taxamount                       4442\n",
       "fips                               0\n",
       "dtype: int64"
      ]
     },
     "execution_count": 12,
     "metadata": {},
     "output_type": "execute_result"
    }
   ],
   "source": [
    "## verify whitespace has been converted to null\n",
    "df.isna().sum()"
   ]
  },
  {
   "cell_type": "code",
   "execution_count": 13,
   "id": "b54ad36a",
   "metadata": {},
   "outputs": [
    {
     "data": {
      "text/plain": [
       "(2140235, 8)"
      ]
     },
     "execution_count": 13,
     "metadata": {},
     "output_type": "execute_result"
    }
   ],
   "source": [
    "# drop null rows\n",
    "df = df.dropna()\n",
    "df.shape"
   ]
  },
  {
   "cell_type": "code",
   "execution_count": 14,
   "id": "b095f35b",
   "metadata": {},
   "outputs": [
    {
     "data": {
      "text/plain": [
       "(2140235, 8)"
      ]
     },
     "execution_count": 14,
     "metadata": {},
     "output_type": "execute_result"
    }
   ],
   "source": [
    "# drop any duplicate rows\n",
    "df = df.drop_duplicates(keep='first')\n",
    "df.shape"
   ]
  },
  {
   "cell_type": "code",
   "execution_count": 15,
   "id": "e5807442",
   "metadata": {},
   "outputs": [
    {
     "data": {
      "text/html": [
       "<div><div id=4b80541f-a591-40dc-801a-7c2fd2d278df style=\"display:none; background-color:#9D6CFF; color:white; width:200px; height:30px; padding-left:5px; border-radius:4px; flex-direction:row; justify-content:space-around; align-items:center;\" onmouseover=\"this.style.backgroundColor='#BA9BF8'\" onmouseout=\"this.style.backgroundColor='#9D6CFF'\" onclick=\"window.commands?.execute('create-mitosheet-from-dataframe-output');\">See Full Dataframe in Mito</div> <script> if (window.commands?.hasCommand('create-mitosheet-from-dataframe-output')) document.getElementById('4b80541f-a591-40dc-801a-7c2fd2d278df').style.display = 'flex' </script> <table border=\"1\" class=\"dataframe\">\n",
       "  <thead>\n",
       "    <tr style=\"text-align: right;\">\n",
       "      <th></th>\n",
       "      <th>parcelid</th>\n",
       "      <th>bedroomcnt</th>\n",
       "      <th>bathroomcnt</th>\n",
       "      <th>calculatedfinishedsquarefeet</th>\n",
       "      <th>taxvaluedollarcnt</th>\n",
       "      <th>yearbuilt</th>\n",
       "      <th>taxamount</th>\n",
       "      <th>fips</th>\n",
       "    </tr>\n",
       "  </thead>\n",
       "  <tbody>\n",
       "    <tr>\n",
       "      <th>4</th>\n",
       "      <td>11324547</td>\n",
       "      <td>4</td>\n",
       "      <td>2.0</td>\n",
       "      <td>3633</td>\n",
       "      <td>296425.0</td>\n",
       "      <td>2005</td>\n",
       "      <td>6941.39</td>\n",
       "      <td>6037</td>\n",
       "    </tr>\n",
       "    <tr>\n",
       "      <th>6</th>\n",
       "      <td>11544747</td>\n",
       "      <td>3</td>\n",
       "      <td>4.0</td>\n",
       "      <td>1620</td>\n",
       "      <td>847770.0</td>\n",
       "      <td>2011</td>\n",
       "      <td>10244.94</td>\n",
       "      <td>6037</td>\n",
       "    </tr>\n",
       "    <tr>\n",
       "      <th>7</th>\n",
       "      <td>11585547</td>\n",
       "      <td>3</td>\n",
       "      <td>2.0</td>\n",
       "      <td>2077</td>\n",
       "      <td>646760.0</td>\n",
       "      <td>1926</td>\n",
       "      <td>7924.68</td>\n",
       "      <td>6037</td>\n",
       "    </tr>\n",
       "    <tr>\n",
       "      <th>11</th>\n",
       "      <td>11954547</td>\n",
       "      <td>0</td>\n",
       "      <td>0.0</td>\n",
       "      <td>1200</td>\n",
       "      <td>5328.0</td>\n",
       "      <td>1972</td>\n",
       "      <td>91.60</td>\n",
       "      <td>6037</td>\n",
       "    </tr>\n",
       "    <tr>\n",
       "      <th>14</th>\n",
       "      <td>12537947</td>\n",
       "      <td>0</td>\n",
       "      <td>0.0</td>\n",
       "      <td>171</td>\n",
       "      <td>6920.0</td>\n",
       "      <td>1973</td>\n",
       "      <td>255.17</td>\n",
       "      <td>6037</td>\n",
       "    </tr>\n",
       "  </tbody>\n",
       "</table></div>"
      ],
      "text/plain": [
       "    parcelid  bedroomcnt  bathroomcnt  calculatedfinishedsquarefeet  \\\n",
       "4   11324547           4          2.0                          3633   \n",
       "6   11544747           3          4.0                          1620   \n",
       "7   11585547           3          2.0                          2077   \n",
       "11  11954547           0          0.0                          1200   \n",
       "14  12537947           0          0.0                           171   \n",
       "\n",
       "    taxvaluedollarcnt  yearbuilt  taxamount  fips  \n",
       "4            296425.0       2005    6941.39  6037  \n",
       "6            847770.0       2011   10244.94  6037  \n",
       "7            646760.0       1926    7924.68  6037  \n",
       "11             5328.0       1972      91.60  6037  \n",
       "14             6920.0       1973     255.17  6037  "
      ]
     },
     "execution_count": 15,
     "metadata": {},
     "output_type": "execute_result"
    }
   ],
   "source": [
    "# convert column types\n",
    "df = df.astype({'bedroomcnt': int, 'fips':int,\n",
    "          'calculatedfinishedsquarefeet': int, 'yearbuilt': int})\n",
    "df.head()"
   ]
  },
  {
   "cell_type": "code",
   "execution_count": 16,
   "id": "f2abbf6e",
   "metadata": {},
   "outputs": [],
   "source": [
    "# look at value counts for bed/bath\n",
    "\n",
    "df_missing_info = df[(df.bedroomcnt == 0) | (df.bathroomcnt == 0) | (df.calculatedfinishedsquarefeet <= 70)]"
   ]
  },
  {
   "cell_type": "code",
   "execution_count": 17,
   "id": "7435a130",
   "metadata": {},
   "outputs": [
    {
     "data": {
      "text/html": [
       "<div><div id=7495b8fa-87d6-412c-9fc4-a439e7d287bc style=\"display:none; background-color:#9D6CFF; color:white; width:200px; height:30px; padding-left:5px; border-radius:4px; flex-direction:row; justify-content:space-around; align-items:center;\" onmouseover=\"this.style.backgroundColor='#BA9BF8'\" onmouseout=\"this.style.backgroundColor='#9D6CFF'\" onclick=\"window.commands?.execute('create-mitosheet-from-dataframe-output');\">See Full Dataframe in Mito</div> <script> if (window.commands?.hasCommand('create-mitosheet-from-dataframe-output')) document.getElementById('7495b8fa-87d6-412c-9fc4-a439e7d287bc').style.display = 'flex' </script> <table border=\"1\" class=\"dataframe\">\n",
       "  <thead>\n",
       "    <tr style=\"text-align: right;\">\n",
       "      <th></th>\n",
       "      <th>count</th>\n",
       "      <th>mean</th>\n",
       "      <th>std</th>\n",
       "      <th>min</th>\n",
       "      <th>25%</th>\n",
       "      <th>50%</th>\n",
       "      <th>75%</th>\n",
       "      <th>max</th>\n",
       "    </tr>\n",
       "  </thead>\n",
       "  <tbody>\n",
       "    <tr>\n",
       "      <th>parcelid</th>\n",
       "      <td>5346.0</td>\n",
       "      <td>1.355271e+07</td>\n",
       "      <td>9.103736e+06</td>\n",
       "      <td>10713128.00</td>\n",
       "      <td>1.152422e+07</td>\n",
       "      <td>12023713.50</td>\n",
       "      <td>1.298200e+07</td>\n",
       "      <td>1.676892e+08</td>\n",
       "    </tr>\n",
       "    <tr>\n",
       "      <th>bedroomcnt</th>\n",
       "      <td>5346.0</td>\n",
       "      <td>5.402170e-01</td>\n",
       "      <td>1.303651e+00</td>\n",
       "      <td>0.00</td>\n",
       "      <td>0.000000e+00</td>\n",
       "      <td>0.00</td>\n",
       "      <td>0.000000e+00</td>\n",
       "      <td>1.800000e+01</td>\n",
       "    </tr>\n",
       "    <tr>\n",
       "      <th>bathroomcnt</th>\n",
       "      <td>5346.0</td>\n",
       "      <td>3.221100e-01</td>\n",
       "      <td>1.089222e+00</td>\n",
       "      <td>0.00</td>\n",
       "      <td>0.000000e+00</td>\n",
       "      <td>0.00</td>\n",
       "      <td>0.000000e+00</td>\n",
       "      <td>2.000000e+01</td>\n",
       "    </tr>\n",
       "    <tr>\n",
       "      <th>calculatedfinishedsquarefeet</th>\n",
       "      <td>5346.0</td>\n",
       "      <td>1.464158e+03</td>\n",
       "      <td>7.606771e+03</td>\n",
       "      <td>1.00</td>\n",
       "      <td>3.780000e+02</td>\n",
       "      <td>722.00</td>\n",
       "      <td>1.565500e+03</td>\n",
       "      <td>5.311180e+05</td>\n",
       "    </tr>\n",
       "    <tr>\n",
       "      <th>taxvaluedollarcnt</th>\n",
       "      <td>5346.0</td>\n",
       "      <td>3.666633e+05</td>\n",
       "      <td>1.336631e+06</td>\n",
       "      <td>22.00</td>\n",
       "      <td>3.035875e+04</td>\n",
       "      <td>124368.50</td>\n",
       "      <td>3.223152e+05</td>\n",
       "      <td>3.336760e+07</td>\n",
       "    </tr>\n",
       "    <tr>\n",
       "      <th>yearbuilt</th>\n",
       "      <td>5346.0</td>\n",
       "      <td>1.953951e+03</td>\n",
       "      <td>2.709895e+01</td>\n",
       "      <td>1890.00</td>\n",
       "      <td>1.930000e+03</td>\n",
       "      <td>1953.00</td>\n",
       "      <td>1.978000e+03</td>\n",
       "      <td>2.016000e+03</td>\n",
       "    </tr>\n",
       "    <tr>\n",
       "      <th>taxamount</th>\n",
       "      <td>5346.0</td>\n",
       "      <td>4.453605e+03</td>\n",
       "      <td>1.568612e+04</td>\n",
       "      <td>6.34</td>\n",
       "      <td>5.066025e+02</td>\n",
       "      <td>1734.72</td>\n",
       "      <td>4.061953e+03</td>\n",
       "      <td>3.993695e+05</td>\n",
       "    </tr>\n",
       "    <tr>\n",
       "      <th>fips</th>\n",
       "      <td>5346.0</td>\n",
       "      <td>6.050426e+03</td>\n",
       "      <td>2.720347e+01</td>\n",
       "      <td>6037.00</td>\n",
       "      <td>6.037000e+03</td>\n",
       "      <td>6037.00</td>\n",
       "      <td>6.037000e+03</td>\n",
       "      <td>6.111000e+03</td>\n",
       "    </tr>\n",
       "  </tbody>\n",
       "</table></div>"
      ],
      "text/plain": [
       "                               count          mean           std          min  \\\n",
       "parcelid                      5346.0  1.355271e+07  9.103736e+06  10713128.00   \n",
       "bedroomcnt                    5346.0  5.402170e-01  1.303651e+00         0.00   \n",
       "bathroomcnt                   5346.0  3.221100e-01  1.089222e+00         0.00   \n",
       "calculatedfinishedsquarefeet  5346.0  1.464158e+03  7.606771e+03         1.00   \n",
       "taxvaluedollarcnt             5346.0  3.666633e+05  1.336631e+06        22.00   \n",
       "yearbuilt                     5346.0  1.953951e+03  2.709895e+01      1890.00   \n",
       "taxamount                     5346.0  4.453605e+03  1.568612e+04         6.34   \n",
       "fips                          5346.0  6.050426e+03  2.720347e+01      6037.00   \n",
       "\n",
       "                                       25%          50%           75%  \\\n",
       "parcelid                      1.152422e+07  12023713.50  1.298200e+07   \n",
       "bedroomcnt                    0.000000e+00         0.00  0.000000e+00   \n",
       "bathroomcnt                   0.000000e+00         0.00  0.000000e+00   \n",
       "calculatedfinishedsquarefeet  3.780000e+02       722.00  1.565500e+03   \n",
       "taxvaluedollarcnt             3.035875e+04    124368.50  3.223152e+05   \n",
       "yearbuilt                     1.930000e+03      1953.00  1.978000e+03   \n",
       "taxamount                     5.066025e+02      1734.72  4.061953e+03   \n",
       "fips                          6.037000e+03      6037.00  6.037000e+03   \n",
       "\n",
       "                                       max  \n",
       "parcelid                      1.676892e+08  \n",
       "bedroomcnt                    1.800000e+01  \n",
       "bathroomcnt                   2.000000e+01  \n",
       "calculatedfinishedsquarefeet  5.311180e+05  \n",
       "taxvaluedollarcnt             3.336760e+07  \n",
       "yearbuilt                     2.016000e+03  \n",
       "taxamount                     3.993695e+05  \n",
       "fips                          6.111000e+03  "
      ]
     },
     "execution_count": 17,
     "metadata": {},
     "output_type": "execute_result"
    }
   ],
   "source": [
    "df_missing_info.describe().T"
   ]
  },
  {
   "cell_type": "markdown",
   "id": "eb8d3f37",
   "metadata": {},
   "source": [
    "### For the df of missing values, let's see what they are commonly missing, and a distribution of price"
   ]
  },
  {
   "cell_type": "code",
   "execution_count": 18,
   "id": "74e4c5d7",
   "metadata": {},
   "outputs": [
    {
     "data": {
      "text/plain": [
       "<AxesSubplot:>"
      ]
     },
     "execution_count": 18,
     "metadata": {},
     "output_type": "execute_result"
    },
    {
     "data": {
      "image/png": "[encoded data removed]",
      "text/plain": [
       "<Figure size 432x288 with 1 Axes>"
      ]
     },
     "metadata": {
      "needs_background": "light"
     },
     "output_type": "display_data"
    }
   ],
   "source": [
    "df_missing_info.bedroomcnt.hist()"
   ]
  },
  {
   "cell_type": "code",
   "execution_count": 19,
   "id": "f45c4d2c",
   "metadata": {},
   "outputs": [
    {
     "data": {
      "text/plain": [
       "<AxesSubplot:>"
      ]
     },
     "execution_count": 19,
     "metadata": {},
     "output_type": "execute_result"
    },
    {
     "data": {
      "image/png": "[encoded data removed]",
      "text/plain": [
       "<Figure size 432x288 with 1 Axes>"
      ]
     },
     "metadata": {
      "needs_background": "light"
     },
     "output_type": "display_data"
    }
   ],
   "source": [
    "df_missing_info.bathroomcnt.hist()"
   ]
  },
  {
   "cell_type": "code",
   "execution_count": 20,
   "id": "46fee3c1",
   "metadata": {},
   "outputs": [
    {
     "data": {
      "text/plain": [
       "<AxesSubplot:>"
      ]
     },
     "execution_count": 20,
     "metadata": {},
     "output_type": "execute_result"
    },
    {
     "data": {
      "image/png": "[encoded data removed]",
      "text/plain": [
       "<Figure size 432x288 with 1 Axes>"
      ]
     },
     "metadata": {
      "needs_background": "light"
     },
     "output_type": "display_data"
    }
   ],
   "source": [
    "df_missing_info.calculatedfinishedsquarefeet.hist()"
   ]
  },
  {
   "cell_type": "code",
   "execution_count": 21,
   "id": "c2c3643c",
   "metadata": {},
   "outputs": [
    {
     "data": {
      "text/plain": [
       "<AxesSubplot:>"
      ]
     },
     "execution_count": 21,
     "metadata": {},
     "output_type": "execute_result"
    },
    {
     "data": {
      "image/png": "[encoded data removed]",
      "text/plain": [
       "<Figure size 432x288 with 1 Axes>"
      ]
     },
     "metadata": {
      "needs_background": "light"
     },
     "output_type": "display_data"
    }
   ],
   "source": [
    "df_missing_info.taxvaluedollarcnt.hist()"
   ]
  },
  {
   "cell_type": "code",
   "execution_count": 22,
   "id": "88cfc93d",
   "metadata": {},
   "outputs": [
    {
     "data": {
      "text/plain": [
       "(5346, 8)"
      ]
     },
     "execution_count": 22,
     "metadata": {},
     "output_type": "execute_result"
    }
   ],
   "source": [
    "df_missing_info.shape"
   ]
  },
  {
   "cell_type": "code",
   "execution_count": 23,
   "id": "91572ae6",
   "metadata": {},
   "outputs": [
    {
     "data": {
      "text/plain": [
       "(2134889, 8)"
      ]
     },
     "execution_count": 23,
     "metadata": {},
     "output_type": "execute_result"
    }
   ],
   "source": [
    "# most homes in df_missing_info are missing a market value, as well as other key information such as bd/br/sq ft\n",
    "# I feel comfortable dropping them from the final df\n",
    "df = df[(df.bedroomcnt != 0) & (df.bathroomcnt != 0) & (df.calculatedfinishedsquarefeet >= 69)]\n",
    "df.shape"
   ]
  },
  {
   "cell_type": "code",
   "execution_count": 24,
   "id": "8ec67117",
   "metadata": {},
   "outputs": [
    {
     "data": {
      "text/html": [
       "<div><div id=85c119e2-927a-42dc-a941-1e0bad3563d6 style=\"display:none; background-color:#9D6CFF; color:white; width:200px; height:30px; padding-left:5px; border-radius:4px; flex-direction:row; justify-content:space-around; align-items:center;\" onmouseover=\"this.style.backgroundColor='#BA9BF8'\" onmouseout=\"this.style.backgroundColor='#9D6CFF'\" onclick=\"window.commands?.execute('create-mitosheet-from-dataframe-output');\">See Full Dataframe in Mito</div> <script> if (window.commands?.hasCommand('create-mitosheet-from-dataframe-output')) document.getElementById('85c119e2-927a-42dc-a941-1e0bad3563d6').style.display = 'flex' </script> <table border=\"1\" class=\"dataframe\">\n",
       "  <thead>\n",
       "    <tr style=\"text-align: right;\">\n",
       "      <th></th>\n",
       "      <th>parcelid</th>\n",
       "      <th>bedroomcnt</th>\n",
       "      <th>bathroomcnt</th>\n",
       "      <th>calculatedfinishedsquarefeet</th>\n",
       "      <th>taxvaluedollarcnt</th>\n",
       "      <th>yearbuilt</th>\n",
       "      <th>taxamount</th>\n",
       "      <th>fips</th>\n",
       "    </tr>\n",
       "  </thead>\n",
       "  <tbody>\n",
       "    <tr>\n",
       "      <th>4</th>\n",
       "      <td>11324547</td>\n",
       "      <td>4</td>\n",
       "      <td>2.0</td>\n",
       "      <td>3633</td>\n",
       "      <td>296425.0</td>\n",
       "      <td>2005</td>\n",
       "      <td>6941.39</td>\n",
       "      <td>6037</td>\n",
       "    </tr>\n",
       "    <tr>\n",
       "      <th>6</th>\n",
       "      <td>11544747</td>\n",
       "      <td>3</td>\n",
       "      <td>4.0</td>\n",
       "      <td>1620</td>\n",
       "      <td>847770.0</td>\n",
       "      <td>2011</td>\n",
       "      <td>10244.94</td>\n",
       "      <td>6037</td>\n",
       "    </tr>\n",
       "    <tr>\n",
       "      <th>7</th>\n",
       "      <td>11585547</td>\n",
       "      <td>3</td>\n",
       "      <td>2.0</td>\n",
       "      <td>2077</td>\n",
       "      <td>646760.0</td>\n",
       "      <td>1926</td>\n",
       "      <td>7924.68</td>\n",
       "      <td>6037</td>\n",
       "    </tr>\n",
       "    <tr>\n",
       "      <th>18</th>\n",
       "      <td>12716947</td>\n",
       "      <td>3</td>\n",
       "      <td>1.0</td>\n",
       "      <td>1244</td>\n",
       "      <td>169471.0</td>\n",
       "      <td>1950</td>\n",
       "      <td>2532.88</td>\n",
       "      <td>6037</td>\n",
       "    </tr>\n",
       "    <tr>\n",
       "      <th>19</th>\n",
       "      <td>12757147</td>\n",
       "      <td>3</td>\n",
       "      <td>2.0</td>\n",
       "      <td>1300</td>\n",
       "      <td>233266.0</td>\n",
       "      <td>1950</td>\n",
       "      <td>3110.99</td>\n",
       "      <td>6037</td>\n",
       "    </tr>\n",
       "  </tbody>\n",
       "</table></div>"
      ],
      "text/plain": [
       "    parcelid  bedroomcnt  bathroomcnt  calculatedfinishedsquarefeet  \\\n",
       "4   11324547           4          2.0                          3633   \n",
       "6   11544747           3          4.0                          1620   \n",
       "7   11585547           3          2.0                          2077   \n",
       "18  12716947           3          1.0                          1244   \n",
       "19  12757147           3          2.0                          1300   \n",
       "\n",
       "    taxvaluedollarcnt  yearbuilt  taxamount  fips  \n",
       "4            296425.0       2005    6941.39  6037  \n",
       "6            847770.0       2011   10244.94  6037  \n",
       "7            646760.0       1926    7924.68  6037  \n",
       "18           169471.0       1950    2532.88  6037  \n",
       "19           233266.0       1950    3110.99  6037  "
      ]
     },
     "execution_count": 24,
     "metadata": {},
     "output_type": "execute_result"
    }
   ],
   "source": [
    "df.head()"
   ]
  },
  {
   "cell_type": "markdown",
   "id": "33b71ccb",
   "metadata": {},
   "source": [
    "## Takeways from Wrangling (acquire and prep) :\n",
    "- We have dropped all null rows\n",
    "- no duplicates in dataset\n",
    "- dropped rows with 0 val for bd/br, and less than 70 for sqft\n",
    "- we now have 2.134 mn rows remaining\n",
    "    - removed 22,780 null rows\n",
    "    - dropped 5,346 rows with '0' amount values in key fields "
   ]
  },
  {
   "cell_type": "markdown",
   "id": "a1f1a62c",
   "metadata": {},
   "source": [
    "## Step 2. Look at distributions in the dataset"
   ]
  },
  {
   "cell_type": "code",
   "execution_count": 25,
   "id": "8ac3a59e",
   "metadata": {},
   "outputs": [
    {
     "data": {
      "text/plain": [
       "Index(['parcelid', 'bedroomcnt', 'bathroomcnt', 'calculatedfinishedsquarefeet',\n",
       "       'taxvaluedollarcnt', 'yearbuilt', 'taxamount', 'fips'],\n",
       "      dtype='object')"
      ]
     },
     "execution_count": 25,
     "metadata": {},
     "output_type": "execute_result"
    }
   ],
   "source": [
    "df.columns"
   ]
  },
  {
   "cell_type": "code",
   "execution_count": 26,
   "id": "c31b2cbd",
   "metadata": {},
   "outputs": [
    {
     "name": "stdout",
     "output_type": "stream",
     "text": [
      "<class 'pandas.core.frame.DataFrame'>\n",
      "Int64Index: 2134889 entries, 4 to 2152863\n",
      "Data columns (total 8 columns):\n",
      " #   Column                        Dtype  \n",
      "---  ------                        -----  \n",
      " 0   parcelid                      int64  \n",
      " 1   bedroomcnt                    int64  \n",
      " 2   bathroomcnt                   float64\n",
      " 3   calculatedfinishedsquarefeet  int64  \n",
      " 4   taxvaluedollarcnt             float64\n",
      " 5   yearbuilt                     int64  \n",
      " 6   taxamount                     float64\n",
      " 7   fips                          int64  \n",
      "dtypes: float64(3), int64(5)\n",
      "memory usage: 146.6 MB\n"
     ]
    }
   ],
   "source": [
    "df.info()"
   ]
  },
  {
   "cell_type": "code",
   "execution_count": 27,
   "id": "22cfff9f",
   "metadata": {},
   "outputs": [
    {
     "data": {
      "text/plain": [
       "<seaborn.axisgrid.FacetGrid at 0x7fd7084690d0>"
      ]
     },
     "execution_count": 27,
     "metadata": {},
     "output_type": "execute_result"
    },
    {
     "data": {
      "text/plain": [
       "<Figure size 576x288 with 0 Axes>"
      ]
     },
     "metadata": {},
     "output_type": "display_data"
    },
    {
     "data": {
      "image/png": "[encoded data removed]",
      "text/plain": [
       "<Figure size 360x360 with 1 Axes>"
      ]
     },
     "metadata": {
      "needs_background": "light"
     },
     "output_type": "display_data"
    }
   ],
   "source": [
    "plt.figure(figsize=(8,4))\n",
    "sns.catplot(data=df[['bedroomcnt']])"
   ]
  },
  {
   "cell_type": "code",
   "execution_count": 28,
   "id": "cbb7b19a",
   "metadata": {},
   "outputs": [
    {
     "data": {
      "text/plain": [
       "<seaborn.axisgrid.FacetGrid at 0x7fd7084621c0>"
      ]
     },
     "execution_count": 28,
     "metadata": {},
     "output_type": "execute_result"
    },
    {
     "data": {
      "text/plain": [
       "<Figure size 576x288 with 0 Axes>"
      ]
     },
     "metadata": {},
     "output_type": "display_data"
    },
    {
     "data": {
      "image/png": "[encoded data removed]",
      "text/plain": [
       "<Figure size 483.125x360 with 1 Axes>"
      ]
     },
     "metadata": {
      "needs_background": "light"
     },
     "output_type": "display_data"
    }
   ],
   "source": [
    "plt.figure(figsize=(8,4))\n",
    "sns.displot(data=df[['taxvaluedollarcnt']])"
   ]
  },
  {
   "cell_type": "code",
   "execution_count": 29,
   "id": "729e70a1",
   "metadata": {},
   "outputs": [
    {
     "name": "stdout",
     "output_type": "stream",
     "text": [
      "parcelid\n",
      "11324547    1\n",
      "11579580    1\n",
      "11578844    1\n",
      "11576049    1\n",
      "11575630    1\n",
      "           ..\n",
      "12888934    1\n",
      "12888719    1\n",
      "12888619    1\n",
      "12888596    1\n",
      "12385768    1\n",
      "Name: parcelid, Length: 2134889, dtype: int64\n",
      "_________________\n",
      "bedroomcnt\n",
      "3     962633\n",
      "4     633361\n",
      "2     334071\n",
      "5     150594\n",
      "6      25104\n",
      "1      22749\n",
      "7       4791\n",
      "8       1102\n",
      "9        290\n",
      "10       118\n",
      "11        33\n",
      "13        15\n",
      "12        12\n",
      "14         6\n",
      "15         5\n",
      "16         2\n",
      "18         2\n",
      "25         1\n",
      "Name: bedroomcnt, dtype: int64\n",
      "_________________\n",
      "bathroomcnt\n",
      "2.00     942322\n",
      "3.00     422354\n",
      "1.00     411772\n",
      "2.50     142811\n",
      "4.00      82028\n",
      "1.50      31155\n",
      "3.50      28460\n",
      "5.00      28296\n",
      "4.50      19469\n",
      "6.00      10716\n",
      "5.50       6200\n",
      "7.00       4380\n",
      "8.00       1680\n",
      "6.50       1328\n",
      "9.00        705\n",
      "7.50        379\n",
      "10.00       321\n",
      "11.00       145\n",
      "8.50        108\n",
      "12.00        72\n",
      "9.50         49\n",
      "13.00        38\n",
      "14.00        23\n",
      "15.00        15\n",
      "10.50        14\n",
      "0.50         14\n",
      "16.00         9\n",
      "18.00         6\n",
      "20.00         4\n",
      "1.75          3\n",
      "17.00         3\n",
      "12.50         3\n",
      "11.50         3\n",
      "19.50         1\n",
      "14.50         1\n",
      "32.00         1\n",
      "19.00         1\n",
      "Name: bathroomcnt, dtype: int64\n",
      "_________________\n",
      "calculatedfinishedsquarefeet\n",
      "1200     5164\n",
      "1080     4370\n",
      "1120     4335\n",
      "1400     3828\n",
      "1440     3672\n",
      "         ... \n",
      "20433       1\n",
      "12937       1\n",
      "9712        1\n",
      "12299       1\n",
      "24920       1\n",
      "Name: calculatedfinishedsquarefeet, Length: 10390, dtype: int64\n",
      "_________________\n",
      "taxvaluedollarcnt\n",
      "450000.0     817\n",
      "500000.0     773\n",
      "400000.0     722\n",
      "430000.0     690\n",
      "440000.0     680\n",
      "            ... \n",
      "672002.0       1\n",
      "1430193.0      1\n",
      "392694.0       1\n",
      "997691.0       1\n",
      "536061.0       1\n",
      "Name: taxvaluedollarcnt, Length: 586491, dtype: int64\n",
      "_________________\n",
      "yearbuilt\n",
      "1955    84195\n",
      "1950    71520\n",
      "1954    68956\n",
      "1953    62175\n",
      "1956    61744\n",
      "        ...  \n",
      "1855        1\n",
      "1879        1\n",
      "1833        1\n",
      "1840        1\n",
      "1874        1\n",
      "Name: yearbuilt, Length: 153, dtype: int64\n",
      "_________________\n",
      "taxamount\n",
      "345.72      172\n",
      "344.18       76\n",
      "343.52       72\n",
      "49.18        46\n",
      "388.18       37\n",
      "           ... \n",
      "72801.58      1\n",
      "94622.54      1\n",
      "21967.44      1\n",
      "13396.90      1\n",
      "13494.52      1\n",
      "Name: taxamount, Length: 914030, dtype: int64\n",
      "_________________\n",
      "fips\n",
      "6037    1421072\n",
      "6059     551714\n",
      "6111     162103\n",
      "Name: fips, dtype: int64\n",
      "_________________\n"
     ]
    }
   ],
   "source": [
    "for column in df.columns:\n",
    "    print(column)\n",
    "    print(df[column].value_counts())\n",
    "    print(\"_________________\")"
   ]
  },
  {
   "cell_type": "code",
   "execution_count": 30,
   "id": "153d1b28",
   "metadata": {},
   "outputs": [
    {
     "data": {
      "image/png": "[encoded data removed]",
      "text/plain": [
       "<Figure size 1440x216 with 8 Axes>"
      ]
     },
     "metadata": {
      "needs_background": "light"
     },
     "output_type": "display_data"
    }
   ],
   "source": [
    "plt.figure(figsize=(20,3))\n",
    "cols = df.columns\n",
    "for i, col in enumerate(cols):\n",
    "    plot_number = i+1\n",
    "    plt.subplot(1, 8, plot_number)\n",
    "    plt.title(col)\n",
    "    df[col].hist(bins=5)"
   ]
  },
  {
   "cell_type": "code",
   "execution_count": 31,
   "id": "4ebe20db",
   "metadata": {},
   "outputs": [],
   "source": [
    "# df.shape[0]"
   ]
  },
  {
   "cell_type": "code",
   "execution_count": 32,
   "id": "40519da0",
   "metadata": {},
   "outputs": [],
   "source": [
    "# add zscores to get rid of outliers : 3.5 cutoff"
   ]
  }
 ],
 "metadata": {
  "kernelspec": {
   "display_name": "Python 3 (ipykernel)",
   "language": "python",
   "name": "python3"
  },
  "language_info": {
   "codemirror_mode": {
    "name": "ipython",
    "version": 3
   },
   "file_extension": ".py",
   "mimetype": "text/x-python",
   "name": "python",
   "nbconvert_exporter": "python",
   "pygments_lexer": "ipython3",
   "version": "3.9.7"
  }
 },
 "nbformat": 4,
 "nbformat_minor": 5
}
