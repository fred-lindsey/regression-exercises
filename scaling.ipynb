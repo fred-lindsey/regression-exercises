{
 "cells": [
  {
   "cell_type": "markdown",
   "id": "90accc13",
   "metadata": {},
   "source": [
    "## Notes on Scaling"
   ]
  },
  {
   "cell_type": "markdown",
   "id": "9c81875c",
   "metadata": {},
   "source": [
    "## Scaling: important step in pre-processing for data that is dimensionally very different, and is being fed into an algorithm that depends on distance\n",
    "- KNN\n",
    "- Deep Learning"
   ]
  },
  {
   "cell_type": "code",
   "execution_count": 1,
   "id": "96133b86",
   "metadata": {},
   "outputs": [],
   "source": [
    "# experimentally test out your ideas when it comes to scaling\n",
    "# Jason Brownlee, PHD, grand poobah of DS"
   ]
  },
  {
   "cell_type": "markdown",
   "id": "0d332b23",
   "metadata": {},
   "source": [
    "### use it on data with serious differences in proportion for distance based algorithms"
   ]
  },
  {
   "cell_type": "markdown",
   "id": "a4186dfa",
   "metadata": {},
   "source": [
    "### discussion of scaling:\n",
    "- ex: compare A and B to C and D:\n",
    "        - who is more similar?\n",
    "- in scaled data, the proportion is what is important\n",
    "- Euclidean distance v. geometric v. Manhattan (block by block)\n",
    "    - sq rt (sum of distances sqred)\n",
    "- Scale the data for distance based classifiers/algorithms/DL models\n",
    "- Types of Scaling\n",
    "    - min/max scaling (0-1):\n",
    "        - score the values on a linear scale:\n",
    "            - 2 ft: assigned value of 0\n",
    "            - 3 ft: 0.6\n",
    "            - 6 ft: 1\n",
    "    - standard scaling\n",
    "    - robust scaling"
   ]
  },
  {
   "cell_type": "code",
   "execution_count": 2,
   "id": "654c0417",
   "metadata": {},
   "outputs": [],
   "source": [
    "# try all 3 scaling methods when modeling"
   ]
  },
  {
   "cell_type": "code",
   "execution_count": 3,
   "id": "f8820b77",
   "metadata": {},
   "outputs": [],
   "source": [
    "# scaler = MinMaxScaler()\n",
    "# scaling_example[['x1_minmax', 'x2_minmax']] = scaler.fit_transform(scaling_example[['x1', 'x2']])\n",
    "\n",
    "# scaler = StandardScaler()\n",
    "# scaling_example[['x1_standard', 'x2_standard']] = scaler.fit_transform(scaling_example[['x1', 'x2']])\n",
    "\n",
    "# scaler = RobustScaler()\n",
    "# scaling_example[['x1_robust', 'x2_robust']] = scaler.fit_transform(scaling_example[['x1', 'x2']])"
   ]
  },
  {
   "cell_type": "code",
   "execution_count": 4,
   "id": "e6f07040",
   "metadata": {},
   "outputs": [],
   "source": [
    "# scaling_example[sorted(scaling_example)] # sort columns alphabetically"
   ]
  },
  {
   "cell_type": "code",
   "execution_count": 5,
   "id": "0f810e35",
   "metadata": {},
   "outputs": [],
   "source": [
    "## scale after splitting the data into train, validate, test"
   ]
  },
  {
   "cell_type": "markdown",
   "id": "6aabaad2",
   "metadata": {},
   "source": [
    "## Exercises"
   ]
  },
  {
   "cell_type": "markdown",
   "id": "bad9d3c1",
   "metadata": {},
   "source": [
    "### 1. Apply the scalers we talked about in this lesson to your data and visualize the results for the unscaled and scaled distribution ."
   ]
  },
  {
   "cell_type": "code",
   "execution_count": 6,
   "id": "f5530ea7",
   "metadata": {},
   "outputs": [],
   "source": [
    "## .inverse_transform"
   ]
  },
  {
   "cell_type": "code",
   "execution_count": 7,
   "id": "f2178b3d",
   "metadata": {},
   "outputs": [],
   "source": [
    "import matplotlib.pyplot as plt\n",
    "import numpy as np\n",
    "from scipy import stats\n",
    "import sklearn.preprocessing\n",
    "from sklearn.model_selection import train_test_split\n",
    "import pandas as pd"
   ]
  },
  {
   "cell_type": "code",
   "execution_count": 8,
   "id": "fb9aeb74",
   "metadata": {},
   "outputs": [],
   "source": [
    "import wrangle\n",
    "import split"
   ]
  },
  {
   "cell_type": "code",
   "execution_count": 9,
   "id": "ff92d896",
   "metadata": {},
   "outputs": [
    {
     "name": "stdout",
     "output_type": "stream",
     "text": [
      "(2134889, 8)\n",
      "(2096764, 8)\n"
     ]
    },
    {
     "data": {
      "text/html": [
       "<div><div id=784037a7-f48a-453e-ab60-70302b29476b style=\"display:none; background-color:#9D6CFF; color:white; width:200px; height:30px; padding-left:5px; border-radius:4px; flex-direction:row; justify-content:space-around; align-items:center;\" onmouseover=\"this.style.backgroundColor='#BA9BF8'\" onmouseout=\"this.style.backgroundColor='#9D6CFF'\" onclick=\"window.commands?.execute('create-mitosheet-from-dataframe-output');\">See Full Dataframe in Mito</div> <script> if (window.commands?.hasCommand('create-mitosheet-from-dataframe-output')) document.getElementById('784037a7-f48a-453e-ab60-70302b29476b').style.display = 'flex' </script> <table border=\"1\" class=\"dataframe\">\n",
       "  <thead>\n",
       "    <tr style=\"text-align: right;\">\n",
       "      <th></th>\n",
       "      <th>parcelid</th>\n",
       "      <th>bedroomcnt</th>\n",
       "      <th>bathroomcnt</th>\n",
       "      <th>calculatedfinishedsquarefeet</th>\n",
       "      <th>taxvaluedollarcnt</th>\n",
       "      <th>yearbuilt</th>\n",
       "      <th>taxamount</th>\n",
       "      <th>fips</th>\n",
       "    </tr>\n",
       "  </thead>\n",
       "  <tbody>\n",
       "    <tr>\n",
       "      <th>4</th>\n",
       "      <td>11324547</td>\n",
       "      <td>4.0</td>\n",
       "      <td>2.0</td>\n",
       "      <td>3633.0</td>\n",
       "      <td>296425.0</td>\n",
       "      <td>2005.0</td>\n",
       "      <td>6941.39</td>\n",
       "      <td>6037</td>\n",
       "    </tr>\n",
       "    <tr>\n",
       "      <th>6</th>\n",
       "      <td>11544747</td>\n",
       "      <td>3.0</td>\n",
       "      <td>4.0</td>\n",
       "      <td>1620.0</td>\n",
       "      <td>847770.0</td>\n",
       "      <td>2011.0</td>\n",
       "      <td>10244.94</td>\n",
       "      <td>6037</td>\n",
       "    </tr>\n",
       "    <tr>\n",
       "      <th>7</th>\n",
       "      <td>11585547</td>\n",
       "      <td>3.0</td>\n",
       "      <td>2.0</td>\n",
       "      <td>2077.0</td>\n",
       "      <td>646760.0</td>\n",
       "      <td>1926.0</td>\n",
       "      <td>7924.68</td>\n",
       "      <td>6037</td>\n",
       "    </tr>\n",
       "    <tr>\n",
       "      <th>18</th>\n",
       "      <td>12716947</td>\n",
       "      <td>3.0</td>\n",
       "      <td>1.0</td>\n",
       "      <td>1244.0</td>\n",
       "      <td>169471.0</td>\n",
       "      <td>1950.0</td>\n",
       "      <td>2532.88</td>\n",
       "      <td>6037</td>\n",
       "    </tr>\n",
       "    <tr>\n",
       "      <th>19</th>\n",
       "      <td>12757147</td>\n",
       "      <td>3.0</td>\n",
       "      <td>2.0</td>\n",
       "      <td>1300.0</td>\n",
       "      <td>233266.0</td>\n",
       "      <td>1950.0</td>\n",
       "      <td>3110.99</td>\n",
       "      <td>6037</td>\n",
       "    </tr>\n",
       "  </tbody>\n",
       "</table></div>"
      ],
      "text/plain": [
       "    parcelid  bedroomcnt  bathroomcnt  calculatedfinishedsquarefeet  \\\n",
       "4   11324547         4.0          2.0                        3633.0   \n",
       "6   11544747         3.0          4.0                        1620.0   \n",
       "7   11585547         3.0          2.0                        2077.0   \n",
       "18  12716947         3.0          1.0                        1244.0   \n",
       "19  12757147         3.0          2.0                        1300.0   \n",
       "\n",
       "    taxvaluedollarcnt  yearbuilt  taxamount  fips  \n",
       "4            296425.0     2005.0    6941.39  6037  \n",
       "6            847770.0     2011.0   10244.94  6037  \n",
       "7            646760.0     1926.0    7924.68  6037  \n",
       "18           169471.0     1950.0    2532.88  6037  \n",
       "19           233266.0     1950.0    3110.99  6037  "
      ]
     },
     "execution_count": 9,
     "metadata": {},
     "output_type": "execute_result"
    }
   ],
   "source": [
    "df = wrangle.wrangle_zillow()\n",
    "df.head()"
   ]
  },
  {
   "cell_type": "code",
   "execution_count": 10,
   "id": "b728ce98",
   "metadata": {},
   "outputs": [],
   "source": [
    "# split data set before applying scaling. Fit only on train."
   ]
  },
  {
   "cell_type": "code",
   "execution_count": 11,
   "id": "d4074d9e",
   "metadata": {},
   "outputs": [
    {
     "data": {
      "text/plain": [
       "((1174187, 8), (503224, 8), (419353, 8))"
      ]
     },
     "execution_count": 11,
     "metadata": {},
     "output_type": "execute_result"
    }
   ],
   "source": [
    "train, validate, test = split.train_validate_test_split(df, 'taxvaluedollarcnt')\n",
    "train.shape, validate.shape, test.shape"
   ]
  },
  {
   "cell_type": "code",
   "execution_count": 12,
   "id": "1cf38c20",
   "metadata": {},
   "outputs": [
    {
     "name": "stdout",
     "output_type": "stream",
     "text": [
      "<class 'pandas.core.frame.DataFrame'>\n",
      "Int64Index: 1174187 entries, 1913513 to 1641649\n",
      "Data columns (total 8 columns):\n",
      " #   Column                        Non-Null Count    Dtype  \n",
      "---  ------                        --------------    -----  \n",
      " 0   parcelid                      1174187 non-null  object \n",
      " 1   bedroomcnt                    1174187 non-null  float64\n",
      " 2   bathroomcnt                   1174187 non-null  float64\n",
      " 3   calculatedfinishedsquarefeet  1174187 non-null  float64\n",
      " 4   taxvaluedollarcnt             1174187 non-null  float64\n",
      " 5   yearbuilt                     1174187 non-null  float64\n",
      " 6   taxamount                     1174187 non-null  float64\n",
      " 7   fips                          1174187 non-null  int64  \n",
      "dtypes: float64(6), int64(1), object(1)\n",
      "memory usage: 80.6+ MB\n"
     ]
    }
   ],
   "source": [
    "train.info()"
   ]
  },
  {
   "cell_type": "code",
   "execution_count": 13,
   "id": "873ec6e1",
   "metadata": {},
   "outputs": [],
   "source": [
    "#make a list of columns to scale, add to a list\n",
    "# train_scaled = train.copy()\n",
    "# train_scaled[columns_to_scale] = scaler.fit_transform(train[columns_to_scale])\n",
    "# look at documentation for zip\n",
    "\n",
    "def fit_and_scale(scaler, train, validate, test):\n",
    "    # only scales float columns\n",
    "    floats = train.select_dtypes(include='float64').columns\n",
    "    # fits scaler to training data only, then transforms\n",
    "    # train, validate & test\n",
    "    scaler.fit(train[floats])\n",
    "    scaled_train = pd.DataFrame(data=scaler.transform(train[floats]), columns=floats)\n",
    "    scaled_validate = pd.DataFrame(data=scaler.transform(validate[floats]), columns=floats)\n",
    "    scaled_test = pd.DataFrame(data=scaler.transform(test[floats]), columns=floats)\n",
    "    return scaled_train, scaled_validate, scaled_test"
   ]
  },
  {
   "cell_type": "code",
   "execution_count": null,
   "id": "1fa31c2a",
   "metadata": {},
   "outputs": [],
   "source": [
    "# don't scale the target"
   ]
  },
  {
   "cell_type": "markdown",
   "id": "b944b3da",
   "metadata": {},
   "source": [
    "## Min-Max Scaling"
   ]
  },
  {
   "cell_type": "code",
   "execution_count": 14,
   "id": "4d27996e",
   "metadata": {},
   "outputs": [
    {
     "data": {
      "image/png": "[encoded data removed]",
      "text/plain": [
       "<Figure size 936x432 with 2 Axes>"
      ]
     },
     "metadata": {
      "needs_background": "light"
     },
     "output_type": "display_data"
    },
    {
     "data": {
      "image/png": "[encoded data removed]",
      "text/plain": [
       "<Figure size 936x432 with 2 Axes>"
      ]
     },
     "metadata": {
      "needs_background": "light"
     },
     "output_type": "display_data"
    },
    {
     "data": {
      "image/png": "[encoded data removed]",
      "text/plain": [
       "<Figure size 936x432 with 2 Axes>"
      ]
     },
     "metadata": {
      "needs_background": "light"
     },
     "output_type": "display_data"
    },
    {
     "data": {
      "image/png": "[encoded data removed]",
      "text/plain": [
       "<Figure size 936x432 with 2 Axes>"
      ]
     },
     "metadata": {
      "needs_background": "light"
     },
     "output_type": "display_data"
    },
    {
     "data": {
      "image/png": "[encoded data removed]",
      "text/plain": [
       "<Figure size 936x432 with 2 Axes>"
      ]
     },
     "metadata": {
      "needs_background": "light"
     },
     "output_type": "display_data"
    },
    {
     "data": {
      "image/png": "[encoded data removed]",
      "text/plain": [
       "<Figure size 936x432 with 2 Axes>"
      ]
     },
     "metadata": {
      "needs_background": "light"
     },
     "output_type": "display_data"
    }
   ],
   "source": [
    "# transforms the scale to 0-1 scale, from original:\n",
    "scaler = sklearn.preprocessing.MinMaxScaler()\n",
    "# Note that we only call .fit with the training data,\n",
    "# but we use .transform to apply the scaling to all the data splits.\n",
    "# we are creating a scaled dataset in addition to our unscaled original\n",
    "scaler.fit(train)\n",
    "\n",
    "# Note that we only call .fit with the training data,\n",
    "# but we use .transform to apply the scaling to all the data splits.\n",
    "# we are creating a scaled dataset in addition to our unscaled original\n",
    "min_max_train, min_max_validate, min_max_test = fit_and_scale(scaler, train, validate, test)\n",
    "\n",
    "quants = min_max_train.columns\n",
    "train_quants = train[quants]\n",
    "#print(train_quants)\n",
    "\n",
    "for col in train_quants.columns:\n",
    "    plt.figure(figsize=(13, 6))\n",
    "    plt.subplot(121)\n",
    "    plt.hist(train[col], bins=25, ec='black')\n",
    "    plt.title('Original')\n",
    "    plt.subplot(122)\n",
    "    plt.hist(min_max_train[col], bins=25, ec='black')\n",
    "    plt.title('Scaled')\n",
    "    plt.xlabel(col)"
   ]
  },
  {
   "cell_type": "code",
   "execution_count": 15,
   "id": "d9308a8e",
   "metadata": {},
   "outputs": [
    {
     "data": {
      "text/html": [
       "<div><div id=4cfb3e9f-cb9d-47e3-bf1e-0f2bfd8403bd style=\"display:none; background-color:#9D6CFF; color:white; width:200px; height:30px; padding-left:5px; border-radius:4px; flex-direction:row; justify-content:space-around; align-items:center;\" onmouseover=\"this.style.backgroundColor='#BA9BF8'\" onmouseout=\"this.style.backgroundColor='#9D6CFF'\" onclick=\"window.commands?.execute('create-mitosheet-from-dataframe-output');\">See Full Dataframe in Mito</div> <script> if (window.commands?.hasCommand('create-mitosheet-from-dataframe-output')) document.getElementById('4cfb3e9f-cb9d-47e3-bf1e-0f2bfd8403bd').style.display = 'flex' </script> <table border=\"1\" class=\"dataframe\">\n",
       "  <thead>\n",
       "    <tr style=\"text-align: right;\">\n",
       "      <th></th>\n",
       "      <th>bedroomcnt</th>\n",
       "      <th>bathroomcnt</th>\n",
       "      <th>calculatedfinishedsquarefeet</th>\n",
       "      <th>taxvaluedollarcnt</th>\n",
       "      <th>yearbuilt</th>\n",
       "      <th>taxamount</th>\n",
       "    </tr>\n",
       "  </thead>\n",
       "  <tbody>\n",
       "    <tr>\n",
       "      <th>0</th>\n",
       "      <td>0.8</td>\n",
       "      <td>0.5</td>\n",
       "      <td>0.397599</td>\n",
       "      <td>0.199268</td>\n",
       "      <td>0.674242</td>\n",
       "      <td>0.202873</td>\n",
       "    </tr>\n",
       "    <tr>\n",
       "      <th>1</th>\n",
       "      <td>0.2</td>\n",
       "      <td>0.3</td>\n",
       "      <td>0.166038</td>\n",
       "      <td>0.130268</td>\n",
       "      <td>0.500000</td>\n",
       "      <td>0.130387</td>\n",
       "    </tr>\n",
       "    <tr>\n",
       "      <th>2</th>\n",
       "      <td>0.2</td>\n",
       "      <td>0.1</td>\n",
       "      <td>0.117667</td>\n",
       "      <td>0.058781</td>\n",
       "      <td>0.492424</td>\n",
       "      <td>0.072412</td>\n",
       "    </tr>\n",
       "    <tr>\n",
       "      <th>3</th>\n",
       "      <td>0.4</td>\n",
       "      <td>0.3</td>\n",
       "      <td>0.234648</td>\n",
       "      <td>0.139973</td>\n",
       "      <td>0.500000</td>\n",
       "      <td>0.150040</td>\n",
       "    </tr>\n",
       "    <tr>\n",
       "      <th>4</th>\n",
       "      <td>0.2</td>\n",
       "      <td>0.1</td>\n",
       "      <td>0.191424</td>\n",
       "      <td>0.246771</td>\n",
       "      <td>0.310606</td>\n",
       "      <td>0.257469</td>\n",
       "    </tr>\n",
       "  </tbody>\n",
       "</table></div>"
      ],
      "text/plain": [
       "   bedroomcnt  bathroomcnt  calculatedfinishedsquarefeet  taxvaluedollarcnt  \\\n",
       "0         0.8          0.5                      0.397599           0.199268   \n",
       "1         0.2          0.3                      0.166038           0.130268   \n",
       "2         0.2          0.1                      0.117667           0.058781   \n",
       "3         0.4          0.3                      0.234648           0.139973   \n",
       "4         0.2          0.1                      0.191424           0.246771   \n",
       "\n",
       "   yearbuilt  taxamount  \n",
       "0   0.674242   0.202873  \n",
       "1   0.500000   0.130387  \n",
       "2   0.492424   0.072412  \n",
       "3   0.500000   0.150040  \n",
       "4   0.310606   0.257469  "
      ]
     },
     "execution_count": 15,
     "metadata": {},
     "output_type": "execute_result"
    }
   ],
   "source": [
    "min_max_train.head()"
   ]
  },
  {
   "cell_type": "markdown",
   "id": "a9083119",
   "metadata": {},
   "source": [
    "## Standard Scaling"
   ]
  },
  {
   "cell_type": "code",
   "execution_count": 16,
   "id": "1b0a144b",
   "metadata": {},
   "outputs": [
    {
     "data": {
      "image/png": "[encoded data removed]",
      "text/plain": [
       "<Figure size 936x432 with 2 Axes>"
      ]
     },
     "metadata": {
      "needs_background": "light"
     },
     "output_type": "display_data"
    },
    {
     "data": {
      "image/png": "[encoded data removed]",
      "text/plain": [
       "<Figure size 936x432 with 2 Axes>"
      ]
     },
     "metadata": {
      "needs_background": "light"
     },
     "output_type": "display_data"
    },
    {
     "data": {
      "image/png": "[encoded data removed]",
      "text/plain": [
       "<Figure size 936x432 with 2 Axes>"
      ]
     },
     "metadata": {
      "needs_background": "light"
     },
     "output_type": "display_data"
    },
    {
     "data": {
      "image/png": "[encoded data removed]",
      "text/plain": [
       "<Figure size 936x432 with 2 Axes>"
      ]
     },
     "metadata": {
      "needs_background": "light"
     },
     "output_type": "display_data"
    },
    {
     "data": {
      "image/png": "[encoded data removed]",
      "text/plain": [
       "<Figure size 936x432 with 2 Axes>"
      ]
     },
     "metadata": {
      "needs_background": "light"
     },
     "output_type": "display_data"
    },
    {
     "data": {
      "image/png": "[encoded data removed]",
      "text/plain": [
       "<Figure size 936x432 with 2 Axes>"
      ]
     },
     "metadata": {
      "needs_background": "light"
     },
     "output_type": "display_data"
    }
   ],
   "source": [
    "# standard scaling transforms the scale to meet a normal standard dist,\n",
    "# with a mean of 0, and std of 1\n",
    "scaler = sklearn.preprocessing.StandardScaler()\n",
    "# Note that we only call .fit with the training data,\n",
    "# but we use .transform to apply the scaling to all the data splits.\n",
    "# we are creating a scaled dataset in addition to our unscaled original\n",
    "scaler.fit(train)\n",
    "\n",
    "# Note that we only call .fit with the training data,\n",
    "# but we use .transform to apply the scaling to all the data splits.\n",
    "# we are creating a scaled dataset in addition to our unscaled original\n",
    "standard_train, standard_validate, standard_test = fit_and_scale(scaler, train, validate, test)\n",
    "\n",
    "quants = standard_train.columns\n",
    "train_quants = train[quants]\n",
    "#print(train_quants)\n",
    "\n",
    "for col in train_quants.columns:\n",
    "    plt.figure(figsize=(13, 6))\n",
    "    plt.subplot(121)\n",
    "    plt.hist(train[col], bins=25, ec='black')\n",
    "    plt.title('Original')\n",
    "    plt.subplot(122)\n",
    "    plt.hist(standard_train[col], bins=25, ec='black')\n",
    "    plt.title('Scaled')\n",
    "    plt.xlabel(col)"
   ]
  },
  {
   "cell_type": "markdown",
   "id": "1b6fd8fa",
   "metadata": {},
   "source": [
    "## Robust Scaler"
   ]
  },
  {
   "cell_type": "code",
   "execution_count": 26,
   "id": "a822eec2",
   "metadata": {},
   "outputs": [
    {
     "data": {
      "image/png": "[encoded data removed]",
      "text/plain": [
       "<Figure size 936x432 with 2 Axes>"
      ]
     },
     "metadata": {
      "needs_background": "light"
     },
     "output_type": "display_data"
    },
    {
     "data": {
      "image/png": "[encoded data removed]",
      "text/plain": [
       "<Figure size 936x432 with 2 Axes>"
      ]
     },
     "metadata": {
      "needs_background": "light"
     },
     "output_type": "display_data"
    },
    {
     "data": {
      "image/png": "[encoded data removed]",
      "text/plain": [
       "<Figure size 936x432 with 2 Axes>"
      ]
     },
     "metadata": {
      "needs_background": "light"
     },
     "output_type": "display_data"
    },
    {
     "data": {
      "image/png": "[encoded data removed]",
      "text/plain": [
       "<Figure size 936x432 with 2 Axes>"
      ]
     },
     "metadata": {
      "needs_background": "light"
     },
     "output_type": "display_data"
    },
    {
     "data": {
      "image/png": "[encoded data removed]",
      "text/plain": [
       "<Figure size 936x432 with 2 Axes>"
      ]
     },
     "metadata": {
      "needs_background": "light"
     },
     "output_type": "display_data"
    },
    {
     "data": {
      "image/png": "[encoded data removed]",
      "text/plain": [
       "<Figure size 936x432 with 2 Axes>"
      ]
     },
     "metadata": {
      "needs_background": "light"
     },
     "output_type": "display_data"
    }
   ],
   "source": [
    "# linear transformation, using more robust parameters (IQR)\n",
    "scaler = sklearn.preprocessing.RobustScaler()\n",
    "# Note that we only call .fit with the training data,\n",
    "# but we use .transform to apply the scaling to all the data splits.\n",
    "\n",
    "scaler.fit(train)\n",
    "\n",
    "# Note that we only call .fit with the training data,\n",
    "# but we use .transform to apply the scaling to all the data splits.\n",
    "# we are creating a scaled dataset in addition to our unscaled original\n",
    "robust_train, robust_validate, robust_test = fit_and_scale(scaler, train, validate, test)\n",
    "\n",
    "quants = robust_train.columns\n",
    "train_quants = train[quants]\n",
    "#print(train_quants)\n",
    "\n",
    "for col in train_quants.columns:\n",
    "    plt.figure(figsize=(13, 6))\n",
    "    plt.subplot(121)\n",
    "    plt.hist(train[col], bins=25, ec='black')\n",
    "    plt.title('Original')\n",
    "    plt.subplot(122)\n",
    "    plt.hist(robust_train[col], bins=25, ec='black')\n",
    "    plt.title('Scaled')\n",
    "    plt.xlabel(col)"
   ]
  },
  {
   "cell_type": "markdown",
   "id": "08db5afb",
   "metadata": {},
   "source": [
    "### 2. Apply the .inverse_transform method to your scaled data. Is the resulting dataset the exact same as the original data?"
   ]
  },
  {
   "cell_type": "code",
   "execution_count": 18,
   "id": "d0222f17",
   "metadata": {},
   "outputs": [
    {
     "data": {
      "text/html": [
       "<div><div id=3ba7fb28-51ec-4d0e-aaad-50f31806a2e1 style=\"display:none; background-color:#9D6CFF; color:white; width:200px; height:30px; padding-left:5px; border-radius:4px; flex-direction:row; justify-content:space-around; align-items:center;\" onmouseover=\"this.style.backgroundColor='#BA9BF8'\" onmouseout=\"this.style.backgroundColor='#9D6CFF'\" onclick=\"window.commands?.execute('create-mitosheet-from-dataframe-output');\">See Full Dataframe in Mito</div> <script> if (window.commands?.hasCommand('create-mitosheet-from-dataframe-output')) document.getElementById('3ba7fb28-51ec-4d0e-aaad-50f31806a2e1').style.display = 'flex' </script> <table border=\"1\" class=\"dataframe\">\n",
       "  <thead>\n",
       "    <tr style=\"text-align: right;\">\n",
       "      <th></th>\n",
       "      <th>bedroomcnt</th>\n",
       "      <th>bathroomcnt</th>\n",
       "      <th>calculatedfinishedsquarefeet</th>\n",
       "      <th>taxvaluedollarcnt</th>\n",
       "      <th>yearbuilt</th>\n",
       "      <th>taxamount</th>\n",
       "    </tr>\n",
       "  </thead>\n",
       "  <tbody>\n",
       "    <tr>\n",
       "      <th>0</th>\n",
       "      <td>5.0</td>\n",
       "      <td>3.0</td>\n",
       "      <td>2420.0</td>\n",
       "      <td>562318.0</td>\n",
       "      <td>1973.0</td>\n",
       "      <td>6680.10</td>\n",
       "    </tr>\n",
       "    <tr>\n",
       "      <th>1</th>\n",
       "      <td>2.0</td>\n",
       "      <td>2.0</td>\n",
       "      <td>1070.0</td>\n",
       "      <td>367613.0</td>\n",
       "      <td>1950.0</td>\n",
       "      <td>4299.22</td>\n",
       "    </tr>\n",
       "    <tr>\n",
       "      <th>2</th>\n",
       "      <td>2.0</td>\n",
       "      <td>1.0</td>\n",
       "      <td>788.0</td>\n",
       "      <td>165892.0</td>\n",
       "      <td>1949.0</td>\n",
       "      <td>2394.95</td>\n",
       "    </tr>\n",
       "    <tr>\n",
       "      <th>3</th>\n",
       "      <td>3.0</td>\n",
       "      <td>2.0</td>\n",
       "      <td>1470.0</td>\n",
       "      <td>395000.0</td>\n",
       "      <td>1950.0</td>\n",
       "      <td>4944.74</td>\n",
       "    </tr>\n",
       "    <tr>\n",
       "      <th>4</th>\n",
       "      <td>2.0</td>\n",
       "      <td>1.0</td>\n",
       "      <td>1218.0</td>\n",
       "      <td>696364.0</td>\n",
       "      <td>1925.0</td>\n",
       "      <td>8473.37</td>\n",
       "    </tr>\n",
       "  </tbody>\n",
       "</table></div>"
      ],
      "text/plain": [
       "   bedroomcnt  bathroomcnt  calculatedfinishedsquarefeet  taxvaluedollarcnt  \\\n",
       "0         5.0          3.0                        2420.0           562318.0   \n",
       "1         2.0          2.0                        1070.0           367613.0   \n",
       "2         2.0          1.0                         788.0           165892.0   \n",
       "3         3.0          2.0                        1470.0           395000.0   \n",
       "4         2.0          1.0                        1218.0           696364.0   \n",
       "\n",
       "   yearbuilt  taxamount  \n",
       "0     1973.0    6680.10  \n",
       "1     1950.0    4299.22  \n",
       "2     1949.0    2394.95  \n",
       "3     1950.0    4944.74  \n",
       "4     1925.0    8473.37  "
      ]
     },
     "execution_count": 18,
     "metadata": {},
     "output_type": "execute_result"
    }
   ],
   "source": [
    "#standard scaler\n",
    "data = standard_train\n",
    "scaler = sklearn.preprocessing.StandardScaler()\n",
    "scaler.fit(train[quants])\n",
    "x_df = pd.DataFrame(scaler.inverse_transform(standard_train), columns=quants)\n",
    "x_df.head()"
   ]
  },
  {
   "cell_type": "code",
   "execution_count": 19,
   "id": "6725c6c4",
   "metadata": {},
   "outputs": [
    {
     "data": {
      "text/html": [
       "<div><div id=b1a61bb1-1877-49f5-b9c5-f78aadc15495 style=\"display:none; background-color:#9D6CFF; color:white; width:200px; height:30px; padding-left:5px; border-radius:4px; flex-direction:row; justify-content:space-around; align-items:center;\" onmouseover=\"this.style.backgroundColor='#BA9BF8'\" onmouseout=\"this.style.backgroundColor='#9D6CFF'\" onclick=\"window.commands?.execute('create-mitosheet-from-dataframe-output');\">See Full Dataframe in Mito</div> <script> if (window.commands?.hasCommand('create-mitosheet-from-dataframe-output')) document.getElementById('b1a61bb1-1877-49f5-b9c5-f78aadc15495').style.display = 'flex' </script> <table border=\"1\" class=\"dataframe\">\n",
       "  <thead>\n",
       "    <tr style=\"text-align: right;\">\n",
       "      <th></th>\n",
       "      <th>bedroomcnt</th>\n",
       "      <th>bathroomcnt</th>\n",
       "      <th>calculatedfinishedsquarefeet</th>\n",
       "      <th>taxvaluedollarcnt</th>\n",
       "      <th>yearbuilt</th>\n",
       "      <th>taxamount</th>\n",
       "    </tr>\n",
       "  </thead>\n",
       "  <tbody>\n",
       "    <tr>\n",
       "      <th>0</th>\n",
       "      <td>True</td>\n",
       "      <td>True</td>\n",
       "      <td>True</td>\n",
       "      <td>True</td>\n",
       "      <td>True</td>\n",
       "      <td>True</td>\n",
       "    </tr>\n",
       "    <tr>\n",
       "      <th>1</th>\n",
       "      <td>True</td>\n",
       "      <td>True</td>\n",
       "      <td>True</td>\n",
       "      <td>True</td>\n",
       "      <td>True</td>\n",
       "      <td>True</td>\n",
       "    </tr>\n",
       "    <tr>\n",
       "      <th>2</th>\n",
       "      <td>True</td>\n",
       "      <td>True</td>\n",
       "      <td>True</td>\n",
       "      <td>True</td>\n",
       "      <td>True</td>\n",
       "      <td>True</td>\n",
       "    </tr>\n",
       "    <tr>\n",
       "      <th>3</th>\n",
       "      <td>True</td>\n",
       "      <td>True</td>\n",
       "      <td>True</td>\n",
       "      <td>True</td>\n",
       "      <td>True</td>\n",
       "      <td>True</td>\n",
       "    </tr>\n",
       "    <tr>\n",
       "      <th>4</th>\n",
       "      <td>True</td>\n",
       "      <td>True</td>\n",
       "      <td>True</td>\n",
       "      <td>True</td>\n",
       "      <td>True</td>\n",
       "      <td>True</td>\n",
       "    </tr>\n",
       "    <tr>\n",
       "      <th>...</th>\n",
       "      <td>...</td>\n",
       "      <td>...</td>\n",
       "      <td>...</td>\n",
       "      <td>...</td>\n",
       "      <td>...</td>\n",
       "      <td>...</td>\n",
       "    </tr>\n",
       "    <tr>\n",
       "      <th>1174182</th>\n",
       "      <td>True</td>\n",
       "      <td>True</td>\n",
       "      <td>True</td>\n",
       "      <td>True</td>\n",
       "      <td>True</td>\n",
       "      <td>True</td>\n",
       "    </tr>\n",
       "    <tr>\n",
       "      <th>1174183</th>\n",
       "      <td>True</td>\n",
       "      <td>True</td>\n",
       "      <td>True</td>\n",
       "      <td>True</td>\n",
       "      <td>True</td>\n",
       "      <td>True</td>\n",
       "    </tr>\n",
       "    <tr>\n",
       "      <th>1174184</th>\n",
       "      <td>True</td>\n",
       "      <td>True</td>\n",
       "      <td>True</td>\n",
       "      <td>True</td>\n",
       "      <td>True</td>\n",
       "      <td>True</td>\n",
       "    </tr>\n",
       "    <tr>\n",
       "      <th>1174185</th>\n",
       "      <td>True</td>\n",
       "      <td>True</td>\n",
       "      <td>True</td>\n",
       "      <td>True</td>\n",
       "      <td>True</td>\n",
       "      <td>True</td>\n",
       "    </tr>\n",
       "    <tr>\n",
       "      <th>1174186</th>\n",
       "      <td>True</td>\n",
       "      <td>True</td>\n",
       "      <td>True</td>\n",
       "      <td>True</td>\n",
       "      <td>True</td>\n",
       "      <td>True</td>\n",
       "    </tr>\n",
       "  </tbody>\n",
       "</table></div>"
      ],
      "text/plain": [
       "         bedroomcnt  bathroomcnt  calculatedfinishedsquarefeet  \\\n",
       "0              True         True                          True   \n",
       "1              True         True                          True   \n",
       "2              True         True                          True   \n",
       "3              True         True                          True   \n",
       "4              True         True                          True   \n",
       "...             ...          ...                           ...   \n",
       "1174182        True         True                          True   \n",
       "1174183        True         True                          True   \n",
       "1174184        True         True                          True   \n",
       "1174185        True         True                          True   \n",
       "1174186        True         True                          True   \n",
       "\n",
       "         taxvaluedollarcnt  yearbuilt  taxamount  \n",
       "0                     True       True       True  \n",
       "1                     True       True       True  \n",
       "2                     True       True       True  \n",
       "3                     True       True       True  \n",
       "4                     True       True       True  \n",
       "...                    ...        ...        ...  \n",
       "1174182               True       True       True  \n",
       "1174183               True       True       True  \n",
       "1174184               True       True       True  \n",
       "1174185               True       True       True  \n",
       "1174186               True       True       True  \n",
       "\n",
       "[1174187 rows x 6 columns]"
      ]
     },
     "execution_count": 19,
     "metadata": {},
     "output_type": "execute_result"
    }
   ],
   "source": [
    "train[quants].reset_index().drop(columns='index') == x_df"
   ]
  },
  {
   "cell_type": "code",
   "execution_count": 20,
   "id": "10ebb6e0",
   "metadata": {},
   "outputs": [
    {
     "data": {
      "text/plain": [
       "bedroomcnt                      1.000000\n",
       "bathroomcnt                     1.000000\n",
       "calculatedfinishedsquarefeet    0.968285\n",
       "taxvaluedollarcnt               0.948432\n",
       "yearbuilt                       1.000000\n",
       "taxamount                       0.876673\n",
       "dtype: float64"
      ]
     },
     "execution_count": 20,
     "metadata": {},
     "output_type": "execute_result"
    }
   ],
   "source": [
    "pd.DataFrame(train[quants].reset_index().drop(columns='index') == x_df).mean()"
   ]
  },
  {
   "cell_type": "code",
   "execution_count": 21,
   "id": "bd708815",
   "metadata": {},
   "outputs": [],
   "source": [
    "#min_max scaler\n",
    "data = min_max_train\n",
    "scaler = sklearn.preprocessing.MinMaxScaler()\n",
    "scaler.fit(train[quants])\n",
    "x2_df = pd.DataFrame(scaler.inverse_transform(min_max_train), columns=quants)"
   ]
  },
  {
   "cell_type": "code",
   "execution_count": 22,
   "id": "96b467d9",
   "metadata": {},
   "outputs": [
    {
     "data": {
      "text/html": [
       "<div><div id=45a93eef-e92e-4e85-8f58-699e35d386fb style=\"display:none; background-color:#9D6CFF; color:white; width:200px; height:30px; padding-left:5px; border-radius:4px; flex-direction:row; justify-content:space-around; align-items:center;\" onmouseover=\"this.style.backgroundColor='#BA9BF8'\" onmouseout=\"this.style.backgroundColor='#9D6CFF'\" onclick=\"window.commands?.execute('create-mitosheet-from-dataframe-output');\">See Full Dataframe in Mito</div> <script> if (window.commands?.hasCommand('create-mitosheet-from-dataframe-output')) document.getElementById('45a93eef-e92e-4e85-8f58-699e35d386fb').style.display = 'flex' </script> <table border=\"1\" class=\"dataframe\">\n",
       "  <thead>\n",
       "    <tr style=\"text-align: right;\">\n",
       "      <th></th>\n",
       "      <th>bedroomcnt</th>\n",
       "      <th>bathroomcnt</th>\n",
       "      <th>calculatedfinishedsquarefeet</th>\n",
       "      <th>taxvaluedollarcnt</th>\n",
       "      <th>yearbuilt</th>\n",
       "      <th>taxamount</th>\n",
       "    </tr>\n",
       "  </thead>\n",
       "  <tbody>\n",
       "    <tr>\n",
       "      <th>0</th>\n",
       "      <td>True</td>\n",
       "      <td>True</td>\n",
       "      <td>True</td>\n",
       "      <td>True</td>\n",
       "      <td>True</td>\n",
       "      <td>True</td>\n",
       "    </tr>\n",
       "    <tr>\n",
       "      <th>1</th>\n",
       "      <td>True</td>\n",
       "      <td>True</td>\n",
       "      <td>True</td>\n",
       "      <td>True</td>\n",
       "      <td>True</td>\n",
       "      <td>True</td>\n",
       "    </tr>\n",
       "    <tr>\n",
       "      <th>2</th>\n",
       "      <td>True</td>\n",
       "      <td>True</td>\n",
       "      <td>True</td>\n",
       "      <td>True</td>\n",
       "      <td>True</td>\n",
       "      <td>True</td>\n",
       "    </tr>\n",
       "    <tr>\n",
       "      <th>3</th>\n",
       "      <td>True</td>\n",
       "      <td>True</td>\n",
       "      <td>True</td>\n",
       "      <td>True</td>\n",
       "      <td>True</td>\n",
       "      <td>True</td>\n",
       "    </tr>\n",
       "    <tr>\n",
       "      <th>4</th>\n",
       "      <td>True</td>\n",
       "      <td>True</td>\n",
       "      <td>True</td>\n",
       "      <td>True</td>\n",
       "      <td>True</td>\n",
       "      <td>True</td>\n",
       "    </tr>\n",
       "    <tr>\n",
       "      <th>...</th>\n",
       "      <td>...</td>\n",
       "      <td>...</td>\n",
       "      <td>...</td>\n",
       "      <td>...</td>\n",
       "      <td>...</td>\n",
       "      <td>...</td>\n",
       "    </tr>\n",
       "    <tr>\n",
       "      <th>1174182</th>\n",
       "      <td>True</td>\n",
       "      <td>True</td>\n",
       "      <td>True</td>\n",
       "      <td>True</td>\n",
       "      <td>True</td>\n",
       "      <td>True</td>\n",
       "    </tr>\n",
       "    <tr>\n",
       "      <th>1174183</th>\n",
       "      <td>True</td>\n",
       "      <td>True</td>\n",
       "      <td>True</td>\n",
       "      <td>True</td>\n",
       "      <td>True</td>\n",
       "      <td>True</td>\n",
       "    </tr>\n",
       "    <tr>\n",
       "      <th>1174184</th>\n",
       "      <td>True</td>\n",
       "      <td>True</td>\n",
       "      <td>True</td>\n",
       "      <td>True</td>\n",
       "      <td>True</td>\n",
       "      <td>True</td>\n",
       "    </tr>\n",
       "    <tr>\n",
       "      <th>1174185</th>\n",
       "      <td>True</td>\n",
       "      <td>True</td>\n",
       "      <td>True</td>\n",
       "      <td>True</td>\n",
       "      <td>True</td>\n",
       "      <td>True</td>\n",
       "    </tr>\n",
       "    <tr>\n",
       "      <th>1174186</th>\n",
       "      <td>True</td>\n",
       "      <td>True</td>\n",
       "      <td>True</td>\n",
       "      <td>True</td>\n",
       "      <td>True</td>\n",
       "      <td>True</td>\n",
       "    </tr>\n",
       "  </tbody>\n",
       "</table></div>"
      ],
      "text/plain": [
       "         bedroomcnt  bathroomcnt  calculatedfinishedsquarefeet  \\\n",
       "0              True         True                          True   \n",
       "1              True         True                          True   \n",
       "2              True         True                          True   \n",
       "3              True         True                          True   \n",
       "4              True         True                          True   \n",
       "...             ...          ...                           ...   \n",
       "1174182        True         True                          True   \n",
       "1174183        True         True                          True   \n",
       "1174184        True         True                          True   \n",
       "1174185        True         True                          True   \n",
       "1174186        True         True                          True   \n",
       "\n",
       "         taxvaluedollarcnt  yearbuilt  taxamount  \n",
       "0                     True       True       True  \n",
       "1                     True       True       True  \n",
       "2                     True       True       True  \n",
       "3                     True       True       True  \n",
       "4                     True       True       True  \n",
       "...                    ...        ...        ...  \n",
       "1174182               True       True       True  \n",
       "1174183               True       True       True  \n",
       "1174184               True       True       True  \n",
       "1174185               True       True       True  \n",
       "1174186               True       True       True  \n",
       "\n",
       "[1174187 rows x 6 columns]"
      ]
     },
     "execution_count": 22,
     "metadata": {},
     "output_type": "execute_result"
    }
   ],
   "source": [
    "train[quants].reset_index().drop(columns='index').round(1) == x2_df.round(1)"
   ]
  },
  {
   "cell_type": "code",
   "execution_count": 23,
   "id": "eda9e18b",
   "metadata": {},
   "outputs": [
    {
     "data": {
      "text/html": [
       "<div><div id=73e3ce51-51cb-4b68-9d5d-5ef49fe3b8d3 style=\"display:none; background-color:#9D6CFF; color:white; width:200px; height:30px; padding-left:5px; border-radius:4px; flex-direction:row; justify-content:space-around; align-items:center;\" onmouseover=\"this.style.backgroundColor='#BA9BF8'\" onmouseout=\"this.style.backgroundColor='#9D6CFF'\" onclick=\"window.commands?.execute('create-mitosheet-from-dataframe-output');\">See Full Dataframe in Mito</div> <script> if (window.commands?.hasCommand('create-mitosheet-from-dataframe-output')) document.getElementById('73e3ce51-51cb-4b68-9d5d-5ef49fe3b8d3').style.display = 'flex' </script> <table border=\"1\" class=\"dataframe\">\n",
       "  <thead>\n",
       "    <tr style=\"text-align: right;\">\n",
       "      <th></th>\n",
       "      <th>bedroomcnt</th>\n",
       "      <th>bathroomcnt</th>\n",
       "      <th>calculatedfinishedsquarefeet</th>\n",
       "      <th>taxvaluedollarcnt</th>\n",
       "      <th>yearbuilt</th>\n",
       "      <th>taxamount</th>\n",
       "    </tr>\n",
       "  </thead>\n",
       "  <tbody>\n",
       "    <tr>\n",
       "      <th>0</th>\n",
       "      <td>5.0</td>\n",
       "      <td>3.0</td>\n",
       "      <td>2420.0</td>\n",
       "      <td>562318.0</td>\n",
       "      <td>1973.0</td>\n",
       "      <td>6680.10</td>\n",
       "    </tr>\n",
       "    <tr>\n",
       "      <th>1</th>\n",
       "      <td>2.0</td>\n",
       "      <td>2.0</td>\n",
       "      <td>1070.0</td>\n",
       "      <td>367613.0</td>\n",
       "      <td>1950.0</td>\n",
       "      <td>4299.22</td>\n",
       "    </tr>\n",
       "    <tr>\n",
       "      <th>2</th>\n",
       "      <td>2.0</td>\n",
       "      <td>1.0</td>\n",
       "      <td>788.0</td>\n",
       "      <td>165892.0</td>\n",
       "      <td>1949.0</td>\n",
       "      <td>2394.95</td>\n",
       "    </tr>\n",
       "    <tr>\n",
       "      <th>3</th>\n",
       "      <td>3.0</td>\n",
       "      <td>2.0</td>\n",
       "      <td>1470.0</td>\n",
       "      <td>395000.0</td>\n",
       "      <td>1950.0</td>\n",
       "      <td>4944.74</td>\n",
       "    </tr>\n",
       "    <tr>\n",
       "      <th>4</th>\n",
       "      <td>2.0</td>\n",
       "      <td>1.0</td>\n",
       "      <td>1218.0</td>\n",
       "      <td>696364.0</td>\n",
       "      <td>1925.0</td>\n",
       "      <td>8473.37</td>\n",
       "    </tr>\n",
       "  </tbody>\n",
       "</table></div>"
      ],
      "text/plain": [
       "   bedroomcnt  bathroomcnt  calculatedfinishedsquarefeet  taxvaluedollarcnt  \\\n",
       "0         5.0          3.0                        2420.0           562318.0   \n",
       "1         2.0          2.0                        1070.0           367613.0   \n",
       "2         2.0          1.0                         788.0           165892.0   \n",
       "3         3.0          2.0                        1470.0           395000.0   \n",
       "4         2.0          1.0                        1218.0           696364.0   \n",
       "\n",
       "   yearbuilt  taxamount  \n",
       "0     1973.0    6680.10  \n",
       "1     1950.0    4299.22  \n",
       "2     1949.0    2394.95  \n",
       "3     1950.0    4944.74  \n",
       "4     1925.0    8473.37  "
      ]
     },
     "execution_count": 23,
     "metadata": {},
     "output_type": "execute_result"
    }
   ],
   "source": [
    "train[quants].reset_index().drop(columns='index').head()"
   ]
  },
  {
   "cell_type": "code",
   "execution_count": 24,
   "id": "bbeccc44",
   "metadata": {},
   "outputs": [
    {
     "data": {
      "text/html": [
       "<div><div id=7732c4a2-3152-45fd-ae75-ae8d3e0bcf36 style=\"display:none; background-color:#9D6CFF; color:white; width:200px; height:30px; padding-left:5px; border-radius:4px; flex-direction:row; justify-content:space-around; align-items:center;\" onmouseover=\"this.style.backgroundColor='#BA9BF8'\" onmouseout=\"this.style.backgroundColor='#9D6CFF'\" onclick=\"window.commands?.execute('create-mitosheet-from-dataframe-output');\">See Full Dataframe in Mito</div> <script> if (window.commands?.hasCommand('create-mitosheet-from-dataframe-output')) document.getElementById('7732c4a2-3152-45fd-ae75-ae8d3e0bcf36').style.display = 'flex' </script> <table border=\"1\" class=\"dataframe\">\n",
       "  <thead>\n",
       "    <tr style=\"text-align: right;\">\n",
       "      <th></th>\n",
       "      <th>bedroomcnt</th>\n",
       "      <th>bathroomcnt</th>\n",
       "      <th>calculatedfinishedsquarefeet</th>\n",
       "      <th>taxvaluedollarcnt</th>\n",
       "      <th>yearbuilt</th>\n",
       "      <th>taxamount</th>\n",
       "    </tr>\n",
       "  </thead>\n",
       "  <tbody>\n",
       "    <tr>\n",
       "      <th>0</th>\n",
       "      <td>5.0</td>\n",
       "      <td>3.0</td>\n",
       "      <td>2420.0</td>\n",
       "      <td>562318.0</td>\n",
       "      <td>1973.0</td>\n",
       "      <td>6680.10</td>\n",
       "    </tr>\n",
       "    <tr>\n",
       "      <th>1</th>\n",
       "      <td>2.0</td>\n",
       "      <td>2.0</td>\n",
       "      <td>1070.0</td>\n",
       "      <td>367613.0</td>\n",
       "      <td>1950.0</td>\n",
       "      <td>4299.22</td>\n",
       "    </tr>\n",
       "    <tr>\n",
       "      <th>2</th>\n",
       "      <td>2.0</td>\n",
       "      <td>1.0</td>\n",
       "      <td>788.0</td>\n",
       "      <td>165892.0</td>\n",
       "      <td>1949.0</td>\n",
       "      <td>2394.95</td>\n",
       "    </tr>\n",
       "    <tr>\n",
       "      <th>3</th>\n",
       "      <td>3.0</td>\n",
       "      <td>2.0</td>\n",
       "      <td>1470.0</td>\n",
       "      <td>395000.0</td>\n",
       "      <td>1950.0</td>\n",
       "      <td>4944.74</td>\n",
       "    </tr>\n",
       "    <tr>\n",
       "      <th>4</th>\n",
       "      <td>2.0</td>\n",
       "      <td>1.0</td>\n",
       "      <td>1218.0</td>\n",
       "      <td>696364.0</td>\n",
       "      <td>1925.0</td>\n",
       "      <td>8473.37</td>\n",
       "    </tr>\n",
       "  </tbody>\n",
       "</table></div>"
      ],
      "text/plain": [
       "   bedroomcnt  bathroomcnt  calculatedfinishedsquarefeet  taxvaluedollarcnt  \\\n",
       "0         5.0          3.0                        2420.0           562318.0   \n",
       "1         2.0          2.0                        1070.0           367613.0   \n",
       "2         2.0          1.0                         788.0           165892.0   \n",
       "3         3.0          2.0                        1470.0           395000.0   \n",
       "4         2.0          1.0                        1218.0           696364.0   \n",
       "\n",
       "   yearbuilt  taxamount  \n",
       "0     1973.0    6680.10  \n",
       "1     1950.0    4299.22  \n",
       "2     1949.0    2394.95  \n",
       "3     1950.0    4944.74  \n",
       "4     1925.0    8473.37  "
      ]
     },
     "execution_count": 24,
     "metadata": {},
     "output_type": "execute_result"
    }
   ],
   "source": [
    "x2_df.head()"
   ]
  },
  {
   "cell_type": "code",
   "execution_count": 25,
   "id": "e09d0c05",
   "metadata": {},
   "outputs": [
    {
     "data": {
      "text/plain": [
       "bedroomcnt                      1.000000\n",
       "bathroomcnt                     0.999998\n",
       "calculatedfinishedsquarefeet    1.000000\n",
       "taxvaluedollarcnt               1.000000\n",
       "yearbuilt                       1.000000\n",
       "taxamount                       0.999931\n",
       "dtype: float64"
      ]
     },
     "execution_count": 25,
     "metadata": {},
     "output_type": "execute_result"
    }
   ],
   "source": [
    "(train[quants].reset_index().drop(columns='index').round(1) == x2_df.round(1)).mean()"
   ]
  },
  {
   "cell_type": "markdown",
   "id": "6b365477",
   "metadata": {},
   "source": [
    "### 3. Read the documentation for sklearn's QuantileTransformer. Use normal for the output_distribution and apply this scaler to your data. Visualize the result of your data scaling."
   ]
  },
  {
   "cell_type": "code",
   "execution_count": null,
   "id": "b0ede569",
   "metadata": {},
   "outputs": [],
   "source": [
    "# quantile transform applied:\n",
    "visualize_scaler(scaler=QuantileTransformer)"
   ]
  },
  {
   "cell_type": "code",
   "execution_count": null,
   "id": "a3171cc6",
   "metadata": {},
   "outputs": [],
   "source": [
    "# ordinary least squares regression\n",
    "# gradient ascending approach"
   ]
  }
 ],
 "metadata": {
  "kernelspec": {
   "display_name": "Python 3 (ipykernel)",
   "language": "python",
   "name": "python3"
  },
  "language_info": {
   "codemirror_mode": {
    "name": "ipython",
    "version": 3
   },
   "file_extension": ".py",
   "mimetype": "text/x-python",
   "name": "python",
   "nbconvert_exporter": "python",
   "pygments_lexer": "ipython3",
   "version": "3.9.7"
  }
 },
 "nbformat": 4,
 "nbformat_minor": 5
}
